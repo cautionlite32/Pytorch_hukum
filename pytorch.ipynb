{
 "cells": [
  {
   "cell_type": "code",
   "execution_count": 22,
   "id": "0dcb0cb4-30b4-4724-acbb-987d6a6f9d1f",
   "metadata": {},
   "outputs": [],
   "source": [
    "import torch\n",
    "from torch import nn\n",
    "from torch.utils.data import DataLoader\n",
    "from torchvision import datasets \n",
    "from torchvision.transforms import ToTensor"
   ]
  },
  {
   "cell_type": "code",
   "execution_count": 23,
   "id": "89101217-4320-44ab-b083-fc9dfebde813",
   "metadata": {},
   "outputs": [],
   "source": [
    "train_data = datasets.FashionMNIST(\n",
    "    root='data', \n",
    "    train=True,\n",
    "    download=True,\n",
    "    transform=ToTensor()\n",
    ")"
   ]
  },
  {
   "cell_type": "code",
   "execution_count": 24,
   "id": "4a51e55c-48e3-4ea1-b064-f3d16e9c7c1c",
   "metadata": {},
   "outputs": [],
   "source": [
    "test_data = datasets.FashionMNIST(\n",
    "    root='data', \n",
    "    train=False,\n",
    "    download=True,\n",
    "    transform=ToTensor()\n",
    ")"
   ]
  },
  {
   "cell_type": "code",
   "execution_count": 25,
   "id": "2e93b45a-2fa9-4e54-a650-87feabadc9ff",
   "metadata": {},
   "outputs": [
    {
     "name": "stdout",
     "output_type": "stream",
     "text": [
      "shape of X [N, C, H, W]: torch.Size([64, 1, 28, 28])\n",
      "shape of y: torch.Size([64]) torch.int64\n"
     ]
    }
   ],
   "source": [
    "batch_size = 64\n",
    "train_load = DataLoader(train_data, batch_size=batch_size)\n",
    "test_load = DataLoader(test_data, batch_size=batch_size)\n",
    "for X, y in test_load:\n",
    "    print(f'shape of X [N, C, H, W]: {X.shape}') #batch size, channels, height, width\n",
    "    print(f'shape of y: {y.shape} {y.dtype}')\n",
    "    break"
   ]
  },
  {
   "cell_type": "code",
   "execution_count": 26,
   "id": "396952d9-dbbb-4a70-b209-dd23dcc0879e",
   "metadata": {},
   "outputs": [
    {
     "name": "stdout",
     "output_type": "stream",
     "text": [
      "using cuda device\n"
     ]
    }
   ],
   "source": [
    "# getting GPU or MPS\n",
    "device = (\n",
    "    'cuda'\n",
    "    if torch.cuda.is_available()\n",
    "    else 'mps'\n",
    "    if torch.backends.mps.is_available()\n",
    "    else 'cpu'\n",
    ")\n",
    "\n",
    "print(f'using {device} device')"
   ]
  },
  {
   "cell_type": "code",
   "execution_count": 27,
   "id": "4e64a22c-bc6d-4ec4-b756-d03b501bcd03",
   "metadata": {},
   "outputs": [
    {
     "name": "stdout",
     "output_type": "stream",
     "text": [
      "NeuRalNet(\n",
      "  (falttern): Flatten(start_dim=1, end_dim=-1)\n",
      "  (linear_relu_stack): Sequential(\n",
      "    (0): Linear(in_features=784, out_features=512, bias=True)\n",
      "    (1): ReLU()\n",
      "    (2): Linear(in_features=512, out_features=512, bias=True)\n",
      "    (3): ReLU()\n",
      "    (4): Linear(in_features=512, out_features=10, bias=True)\n",
      "  )\n",
      ")\n"
     ]
    }
   ],
   "source": [
    "# model creation \n",
    "class NeuRalNet(nn.Module):\n",
    "    def __init__(self):\n",
    "        super().__init__()\n",
    "        self.falttern = nn.Flatten()\n",
    "        self.linear_relu_stack = nn.Sequential(\n",
    "            nn.Linear(28*28, 512),\n",
    "            nn.ReLU(),\n",
    "            nn.Linear(512, 512),\n",
    "            nn.ReLU(),\n",
    "            nn.Linear(512, 10)\n",
    "        )\n",
    "    def foreward(self, x):\n",
    "        x = self.flattern(x)\n",
    "        logits = self.linear_relu_stack(x)\n",
    "        return logits\n",
    "\n",
    "model = NeuRalNet().to(device)\n",
    "print(model)"
   ]
  },
  {
   "cell_type": "code",
   "execution_count": 28,
   "id": "98928cad-d9bf-46c9-9ae5-9fa59fdfcb9b",
   "metadata": {},
   "outputs": [],
   "source": [
    "#optimize the model parameters\n",
    "loss_fn = nn.CrossEntropyLoss()\n",
    "optimizer = torch.optim.SGD(model.parameters(), lr=1e-3)"
   ]
  },
  {
   "cell_type": "code",
   "execution_count": 29,
   "id": "270179da-68d0-4188-9920-93d4606d2a3f",
   "metadata": {},
   "outputs": [],
   "source": [
    "def train(dataloader, model, loss_fn, optimizer):\n",
    "    size = len(dataloader.dataset)\n",
    "    model.train()\n",
    "    for batch, (X, y) in enumerate(dataloader):\n",
    "        X, y = X.to(device), y.to(device)\n",
    "\n",
    "        # predicted error\n",
    "        pred = model(X)\n",
    "        loss = loss_fn(pred, y)\n",
    "        #bck propagation \n",
    "        loss.backward()\n",
    "        optimizer.step()\n",
    "        optimizer.zero_grad()\n",
    "\n",
    "        if batch % 100 == 0:\n",
    "            loss, current = loss.item(), (batch + 1) * len(X)\n",
    "            print(f\"loss: {loss:>7f}  [{current:>5d}/{size:>5d}]\")"
   ]
  },
  {
   "cell_type": "markdown",
   "id": "4aad76f5-f2e9-4d39-be18-167de2469e79",
   "metadata": {},
   "source": [
    "### GODDAM BASICS OF PYTORCH "
   ]
  },
  {
   "cell_type": "code",
   "execution_count": 30,
   "id": "7d458211-cc08-4eb5-b824-9529e1dcc6a1",
   "metadata": {},
   "outputs": [],
   "source": [
    "import numpy as np\n",
    "import math"
   ]
  },
  {
   "cell_type": "code",
   "execution_count": 31,
   "id": "16f2859a-7bae-45a7-9c09-1530dbb55c18",
   "metadata": {},
   "outputs": [],
   "source": [
    "x = np.linspace(-math.pi, math.pi, 2000)\n",
    "y = np.sin(x)"
   ]
  },
  {
   "cell_type": "code",
   "execution_count": 32,
   "id": "0fd008fd-78ae-4081-8ac7-1ef50ce7457f",
   "metadata": {},
   "outputs": [
    {
     "name": "stdout",
     "output_type": "stream",
     "text": [
      "99 160.8723585379812\n",
      "199 109.9487271532796\n",
      "Result: y = 0.09999396456084844 + 0.5615606366403609 x + -0.01725060290563039 x^2 + -0.05134357512729707 x^3\n"
     ]
    }
   ],
   "source": [
    "a = np.random.rand()\n",
    "b = np.random.rand()\n",
    "c = np.random.rand()\n",
    "d = np.random.rand()\n",
    "\n",
    "learn_rate = 1e-6\n",
    "for t in range(200):\n",
    "    y_pred = a + b * x + c * x ** 2 + d * x ** 3\n",
    "    loss = np.square(y_pred - y).sum()\n",
    "    if t % 100 == 99:\n",
    "        print(t, loss)\n",
    "    # backproportion\n",
    "    grad_y_pred = 2.0 * (y_pred - y)\n",
    "    grad_a = grad_y_pred.sum()\n",
    "    grad_b = (grad_y_pred * x).sum()\n",
    "    grad_c = (grad_y_pred * x ** 2).sum() \n",
    "    grad_d = (grad_y_pred * x ** 3).sum()\n",
    "\n",
    "    #update weights\n",
    "    a -= learn_rate * grad_a\n",
    "    b -= learn_rate * grad_b\n",
    "    c -= learn_rate * grad_c\n",
    "    d -= learn_rate * grad_d\n",
    "\n",
    "print(f'Result: y = {a} + {b} x + {c} x^2 + {d} x^3')"
   ]
  },
  {
   "cell_type": "markdown",
   "id": "617af2fc-fd6a-4012-a625-5babc36d1a22",
   "metadata": {},
   "source": [
    "### NUMPY --> TENSOR "
   ]
  },
  {
   "cell_type": "code",
   "execution_count": 33,
   "id": "7b6ce7a5-e8aa-4ede-b19e-3579b3322cc9",
   "metadata": {},
   "outputs": [
    {
     "name": "stdout",
     "output_type": "stream",
     "text": [
      "True\n",
      "1\n"
     ]
    }
   ],
   "source": [
    "import torch\n",
    "print(torch.cuda.is_available())\n",
    "print(torch.cuda.device_count())"
   ]
  },
  {
   "cell_type": "code",
   "execution_count": 34,
   "id": "16c5163d-2ef6-4cd3-8358-2cfa29c8cd88",
   "metadata": {},
   "outputs": [],
   "source": [
    "import torch\n",
    "import math\n",
    "dtype = torch.float\n",
    "device = 'cuda' if torch.cuda.is_available() else 'cpu'\n",
    "torch.set_default_device(device)\n",
    "\n",
    "#random data generation\n",
    "x = torch.linspace(-math.pi, math.pi, 2000, dtype=dtype)\n",
    "y = torch.sin(x)"
   ]
  },
  {
   "cell_type": "code",
   "execution_count": 35,
   "id": "2efefec1-52b9-4109-b649-8e4b07a787b9",
   "metadata": {
    "scrolled": true
   },
   "outputs": [
    {
     "name": "stdout",
     "output_type": "stream",
     "text": [
      "99 593.2322998046875\n",
      "199 402.7572021484375\n",
      "299 274.615478515625\n",
      "399 188.33071899414062\n",
      "499 130.17735290527344\n",
      "599 90.94671630859375\n",
      "699 64.45582580566406\n",
      "799 46.5496826171875\n",
      "899 34.43402099609375\n",
      "999 26.227813720703125\n",
      "1099 20.663658142089844\n",
      "1199 16.8867244720459\n",
      "1299 14.320234298706055\n",
      "1399 12.574305534362793\n",
      "1499 11.385252952575684\n",
      "1599 10.574528694152832\n",
      "1699 10.021114349365234\n",
      "1799 9.642926216125488\n",
      "1899 9.38417911529541\n",
      "1999 9.206937789916992\n",
      "Result: y = 0.015927763655781746 + 0.8443171977996826 x + -0.0027478039264678955 x^2 + -0.09156323224306107 x^3\n"
     ]
    }
   ],
   "source": [
    "# random teors with weight, requires_grad=True compute gradients wrttensors while bckpass\n",
    "a = torch.rand((), dtype=dtype, requires_grad=True)\n",
    "b = torch.rand((), dtype=dtype, requires_grad=True)\n",
    "c = torch.rand((), dtype=dtype, requires_grad=True)\n",
    "d = torch.rand((), dtype=dtype, requires_grad=True)\n",
    "\n",
    "learn_rate = 1e-6\n",
    "for t in range(2000):\n",
    "    y_pred = a + b * x + c * x ** 2 + d * x ** 3\n",
    "    #loss, in tensor sahpe of (1,)\n",
    "    loss = (y_pred - y).pow(2).sum()\n",
    "    if t % 100 == 99:\n",
    "        print(t, loss.item())\n",
    "    loss.backward()\n",
    "    with torch.no_grad():\n",
    "        a -= learn_rate * a.grad\n",
    "        b -= learn_rate * b.grad\n",
    "        c -= learn_rate * c.grad\n",
    "        d -= learn_rate * d.grad\n",
    "\n",
    "        #manually 0 the grads after updating the gradients\n",
    "        a.grad = None\n",
    "        b.grad = None\n",
    "        c.grad = None\n",
    "        d.grad = None\n",
    "\n",
    "print(f'Result: y = {a.item()} + {b.item()} x + {c.item()} x^2 + {d.item()} x^3')   "
   ]
  },
  {
   "cell_type": "code",
   "execution_count": 36,
   "id": "a9a295f8-7e6c-4100-ac22-868f1329666a",
   "metadata": {},
   "outputs": [],
   "source": [
    "#autograd-> essential for training NN through bk propogation\n",
    "import torch\n",
    "import math"
   ]
  },
  {
   "cell_type": "code",
   "execution_count": 37,
   "id": "eae38ba4-c713-43e4-9b31-fe2c19066c84",
   "metadata": {},
   "outputs": [
    {
     "name": "stdout",
     "output_type": "stream",
     "text": [
      "99 209.95834350585938\n",
      "199 144.66018676757812\n",
      "299 100.70249938964844\n",
      "399 71.03520202636719\n",
      "499 50.978511810302734\n",
      "599 37.40313720703125\n",
      "699 28.20686912536621\n",
      "799 21.973186492919922\n",
      "899 17.745729446411133\n",
      "999 14.877889633178711\n",
      "1099 12.931766510009766\n",
      "1199 11.610918998718262\n",
      "1299 10.714248657226562\n",
      "1399 10.105475425720215\n",
      "1499 9.692106246948242\n",
      "1599 9.411375045776367\n",
      "1699 9.220745086669922\n",
      "1799 9.091285705566406\n",
      "1899 9.003361701965332\n",
      "1999 8.94364070892334\n",
      "Result: y = 1.2777713782885503e-11 + -2.208526849746704 * P3(-2.5764071431844116e-10 + 0.2554861009120941 x)\n"
     ]
    }
   ],
   "source": [
    "class PolyNomial(torch.autograd.Function):# used for foreward and bkward \n",
    "    @staticmethod\n",
    "    def forward(ctx, input): #ctx used to save the info for bkward pass.\n",
    "        ctx.save_for_backward(input)\n",
    "        return 0.5 * (5 * input ** 3 - 3 * input)\n",
    "    @staticmethod   \n",
    "    def backward(ctx, grad_output):\n",
    "        input, = ctx.saved_tensors\n",
    "        return grad_output * 1.5 * (5 * input ** 2 - 1)\n",
    "\n",
    "dtype = torch.float\n",
    "device = torch.device('cuda:0')\n",
    "#generating some random data with requires_grad =False no requirement for computing the gradient.\n",
    "x = torch.linspace(-math.pi, math.pi, 2000, device=device, dtype=dtype)\n",
    "y = torch.sin(x)\n",
    "\n",
    "#4weights - y = a + b * P3(c+d*x), requires_grad = True for backward pass\n",
    "\n",
    "a = torch.full((), 0.0, device=device, dtype=dtype, requires_grad=True)\n",
    "b = torch.full((), -1.0, device=device, dtype=dtype, requires_grad=True)\n",
    "c = torch.full((), 0.0, device=device, dtype=dtype, requires_grad=True)\n",
    "d = torch.full((), 0.3, device=device, dtype=dtype, requires_grad=True)\n",
    "\n",
    "learn_rate = 5e-6\n",
    "for t in range(2000):\n",
    "    P3 = PolyNomial.apply\n",
    "    y_pred = a + b * P3(c + d * x)\n",
    "    loss = (y_pred - y).pow(2).sum()\n",
    "    if t % 100 == 99:\n",
    "        print(t, loss.item())\n",
    "\n",
    "    loss.backward()\n",
    "# updating wts using gradient descent \n",
    "    with torch.no_grad():\n",
    "        a -= learn_rate * a.grad\n",
    "        b -= learn_rate * b.grad\n",
    "        c -= learn_rate * c.grad\n",
    "        d -= learn_rate * d.grad\n",
    "# manually zero gradeints afther wts update\n",
    "        a.grad = None\n",
    "        b.grad = None\n",
    "        c.grad = None\n",
    "        d.grad = None\n",
    "\n",
    "print(f'Result: y = {a.item()} + {b.item()} * P3({c.item()} + {d.item()} x)')"
   ]
  },
  {
   "cell_type": "markdown",
   "id": "62326468-79f0-41bf-ba66-a0dd9bf46c1f",
   "metadata": {},
   "source": [
    "### DEFINING NN IN pYTORCH"
   ]
  },
  {
   "cell_type": "code",
   "execution_count": 38,
   "id": "fc785d1a-c38b-4286-b405-e8984d008dc7",
   "metadata": {},
   "outputs": [],
   "source": [
    "import torch \n",
    "import torch.nn as nn\n",
    "import torch.nn.functional as F"
   ]
  },
  {
   "cell_type": "code",
   "execution_count": 39,
   "id": "5e825be9-f5e8-4b85-840d-eef05cca6fe0",
   "metadata": {},
   "outputs": [
    {
     "name": "stdout",
     "output_type": "stream",
     "text": [
      "Net(\n",
      "  (conv1): Conv2d(1, 32, kernel_size=(3, 3), stride=(1, 1))\n",
      "  (conv2): Conv2d(32, 64, kernel_size=(3, 3), stride=(1, 1))\n",
      "  (dropout1): Dropout2d(p=0.25, inplace=False)\n",
      "  (dropout2): Dropout2d(p=0.5, inplace=False)\n",
      "  (fc1): Linear(in_features=9216, out_features=128, bias=True)\n",
      "  (fc2): Linear(in_features=128, out_features=10, bias=True)\n",
      ")\n"
     ]
    }
   ],
   "source": [
    "class Net(nn.Module):\n",
    "    def __init__(self):\n",
    "        super(Net, self).__init__()\n",
    "        self.conv1 = nn.Conv2d(1, 32, 3, 1)\n",
    "        self.conv2 = nn.Conv2d(32, 64, 3, 1)\n",
    "        self.dropout1 = nn.Dropout2d(0.25)\n",
    "        self.dropout2 = nn.Dropout2d(0.5)\n",
    "        self.fc1 = nn.Linear(9216, 128)\n",
    "        self.fc2 = nn.Linear(128, 10)\n",
    "\n",
    "my_nn = Net()\n",
    "print(my_nn)"
   ]
  },
  {
   "cell_type": "markdown",
   "id": "d1488a31-edf6-4f42-96e2-7ab2d769d68e",
   "metadata": {},
   "source": [
    "### done with defining a NN, now working on Fnn"
   ]
  },
  {
   "cell_type": "code",
   "execution_count": 40,
   "id": "d0698f70-9537-4568-9675-462d62ca2144",
   "metadata": {},
   "outputs": [],
   "source": [
    "class Net(nn.Module):\n",
    "    def __init__(self):\n",
    "        super(Net, self).__init__()\n",
    "        self.conv1 = nn.Conv2d(1, 32, 3, 1)\n",
    "        self.conv2 = nn.Conv2d(32, 64, 3, 1)\n",
    "        self.dropout1 = nn.Dropout2d(0.25)\n",
    "        self.dropout2 = nn.Dropout2d(0.50)\n",
    "        self.fc1 = nn.Linear(9216, 128)\n",
    "        self.fc2 = nn.Linear(128, 10)\n",
    "    \n",
    "    def forward(self, x):\n",
    "        x = self.conv1(x)\n",
    "        x = F.relu(x)\n",
    "        x = self.conv2(x)\n",
    "        x = F.relu(x)\n",
    "        x = F.max_pool2d(x, 2)\n",
    "        x = self.dropout1(x)\n",
    "        x = torch.flatten(x, 1)\n",
    "        x = self.fc1(x)\n",
    "        x = F.relu(x)\n",
    "        x = self.dropout2(x)\n",
    "        x = self.fc2(x)\n",
    "\n",
    "        output = F.log_softmax(x, dim = 1)\n",
    "        return output"
   ]
  },
  {
   "cell_type": "code",
   "execution_count": 41,
   "id": "bc522795-d062-4a3c-82b3-9bf552f0b841",
   "metadata": {},
   "outputs": [
    {
     "name": "stdout",
     "output_type": "stream",
     "text": [
      "tensor([[-2.2110, -2.3916, -2.2616, -2.3956, -2.3657, -2.1745, -2.2660, -2.4530,\n",
      "         -2.2333, -2.3112]], device='cuda:0', grad_fn=<LogSoftmaxBackward0>)\n"
     ]
    }
   ],
   "source": [
    "random_data = torch.rand((1,1,28,28))\n",
    "my_nn = Net()\n",
    "result = my_nn(random_data)\n",
    "print(result)"
   ]
  },
  {
   "cell_type": "code",
   "execution_count": 42,
   "id": "8c4f23b7-7ce6-4070-bb53-0398805ef234",
   "metadata": {},
   "outputs": [],
   "source": [
    "import torch\n",
    "from torch import nn\n",
    "from torch.utils.data import DataLoader\n",
    "from torchvision import datasets\n",
    "from torchvision.transforms import ToTensor"
   ]
  },
  {
   "cell_type": "code",
   "execution_count": 43,
   "id": "49266f34-be2a-4647-a83b-bb8d73924dff",
   "metadata": {},
   "outputs": [],
   "source": [
    "train_data = datasets.FashionMNIST(\n",
    "    root = 'data',\n",
    "    train = True,\n",
    "    download = True,\n",
    "    transform = ToTensor(),\n",
    ")\n",
    "\n",
    "test_data = datasets.FashionMNIST(\n",
    "    root ='data',\n",
    "    train = False,\n",
    "    download = True,\n",
    "    transform = ToTensor(),\n",
    ")"
   ]
  },
  {
   "cell_type": "code",
   "execution_count": 44,
   "id": "a24adbd1-085b-4a6c-9f99-c7748c2e6c1c",
   "metadata": {},
   "outputs": [
    {
     "name": "stdout",
     "output_type": "stream",
     "text": [
      "shape of X[N, C, H, W]: torch.Size([64, 1, 28, 28])\n",
      "shape of y:torch.Size([64]) torch.int64\n"
     ]
    }
   ],
   "source": [
    "batch_size = 64\n",
    "train_dataloader = DataLoader(train_data, batch_size = batch_size)\n",
    "test_dataloader = DataLoader(test_data, batch_size = batch_size)\n",
    "\n",
    "for X, y in test_dataloader:\n",
    "    print(f'shape of X[N, C, H, W]: {X.shape}')\n",
    "    print(f'shape of y:{y.shape} {y.dtype}')\n",
    "    break"
   ]
  },
  {
   "cell_type": "markdown",
   "id": "6520ea9e-0220-4292-baad-0411ca9e147f",
   "metadata": {},
   "source": [
    "### MODEL CREATION "
   ]
  },
  {
   "cell_type": "code",
   "execution_count": 62,
   "id": "6472a83b-5148-4e9a-bc62-f4e4a11a4eac",
   "metadata": {},
   "outputs": [
    {
     "name": "stdout",
     "output_type": "stream",
     "text": [
      "using cuda device\n",
      "NN(\n",
      "  (flatten): Flatten(start_dim=1, end_dim=-1)\n",
      "  (linear_relu_stack): Sequential(\n",
      "    (0): Linear(in_features=784, out_features=512, bias=True)\n",
      "    (1): ReLU()\n",
      "    (2): Linear(in_features=512, out_features=512, bias=True)\n",
      "    (3): ReLU()\n",
      "    (4): Linear(in_features=512, out_features=10, bias=True)\n",
      "  )\n",
      ")\n"
     ]
    }
   ],
   "source": [
    "device = (\n",
    "    'cuda'\n",
    "    if torch.cuda.is_available()\n",
    "    else 'mps'\n",
    "    if torch.backends.mps.is_available()\n",
    "    else 'cup'\n",
    ")\n",
    "print(f'using {device} device')\n",
    "\n",
    "class NN(nn.Module):\n",
    "    def __init__(self):\n",
    "        super().__init__()\n",
    "        self.flatten = nn.Flatten()\n",
    "        self.linear_relu_stack = nn.Sequential(\n",
    "            nn.Linear(28 * 28, 512),\n",
    "            nn.ReLU(),\n",
    "            nn.Linear(512, 512),\n",
    "            nn.ReLU(),\n",
    "            nn.Linear(512, 10)\n",
    "        )\n",
    "    def forward(self, x):\n",
    "        x = self.flatten(x)\n",
    "        logits = self.linear_relu_stack(x)\n",
    "        return logits \n",
    "\n",
    "model = NN().to(device)\n",
    "print(model)\n",
    "        "
   ]
  },
  {
   "cell_type": "markdown",
   "id": "757e0a8b-dce5-4e8e-a561-29a1c8cf1ab5",
   "metadata": {},
   "source": [
    "### OPTIMIZING MODEL PARAMS"
   ]
  },
  {
   "cell_type": "code",
   "execution_count": 63,
   "id": "9e6e3c4d-1448-4d36-b15f-1a56b42c38d8",
   "metadata": {},
   "outputs": [],
   "source": [
    "loss_fn = nn.CrossEntropyLoss()\n",
    "optimizer = torch.optim.SGD(model.parameters(), lr = 1e-3)"
   ]
  },
  {
   "cell_type": "code",
   "execution_count": 67,
   "id": "4178c5f6-9f4f-4987-b48a-2ecfaabb79d5",
   "metadata": {},
   "outputs": [],
   "source": [
    "def train(dataloder, model, loss_fn, optimizer):\n",
    "    size = len(dataloder.dataset)\n",
    "    model.train()\n",
    "    for batch, (X, y) in enumerate(dataloder):\n",
    "        X, y = X.to(device), y.to(device)\n",
    "        pred = model(X)\n",
    "        loss = loss_fn(pred, y)\n",
    "\n",
    "        #back propagation\n",
    "        loss.backward()\n",
    "        optimizer.step()\n",
    "        optimizer.zero_grad() # clears old gradinets attributes\n",
    "\n",
    "        if batch % 100 == 0:\n",
    "            loss, current = loss.item(), (batch + 1) * len(X)\n",
    "            print(f'loss : {loss:>7f} [{current :>5d}/{size:>5d}]')"
   ]
  },
  {
   "cell_type": "code",
   "execution_count": 68,
   "id": "d6d0b206-7a49-4877-b055-d6134d51bc7a",
   "metadata": {},
   "outputs": [],
   "source": [
    "def test(dataloder, model, loss_fn):\n",
    "    size = len(dataloder.dataset)\n",
    "    num_batches = len(dataloder)\n",
    "    model.eval()\n",
    "    test_loss, correct = 0,0\n",
    "    with torch.no_grad():\n",
    "        for X, y in dataloder:\n",
    "            X, y = X.to(device), y.to(device)\n",
    "            pred = model(X)\n",
    "            test_loss += loss_fn(pred, y).item()\n",
    "            correct += (pred.argmax(1) == y).type(torch.float).sum().item()\n",
    "        test_loss /= num_batches\n",
    "        correct /= size\n",
    "        print(f'Test Error: \\n Accuracy: {(100 * correct):>0.1f}%, Avg loss:{test_loss:>8f} \\n')"
   ]
  },
  {
   "cell_type": "code",
   "execution_count": 70,
   "id": "c2068365-53c8-4e29-8179-ab1629c89c72",
   "metadata": {},
   "outputs": [
    {
     "name": "stdout",
     "output_type": "stream",
     "text": [
      "Epochs 1\n",
      "---------------------------------\n",
      "loss : 2.169889 [   64/60000]\n",
      "loss : 2.157340 [ 6464/60000]\n",
      "loss : 2.106183 [12864/60000]\n",
      "loss : 2.125902 [19264/60000]\n",
      "loss : 2.076747 [25664/60000]\n",
      "loss : 2.022717 [32064/60000]\n",
      "loss : 2.056694 [38464/60000]\n",
      "loss : 1.976704 [44864/60000]\n",
      "loss : 1.978339 [51264/60000]\n",
      "loss : 1.926713 [57664/60000]\n",
      "Test Error: \n",
      " Accuracy: 61.9%, Avg loss:1.910881 \n",
      "\n",
      "Epochs 2\n",
      "---------------------------------\n",
      "loss : 1.938921 [   64/60000]\n",
      "loss : 1.913142 [ 6464/60000]\n",
      "loss : 1.797389 [12864/60000]\n",
      "loss : 1.834766 [19264/60000]\n",
      "loss : 1.740319 [25664/60000]\n",
      "loss : 1.686286 [32064/60000]\n",
      "loss : 1.707291 [38464/60000]\n",
      "loss : 1.605227 [44864/60000]\n",
      "loss : 1.620594 [51264/60000]\n",
      "loss : 1.527028 [57664/60000]\n",
      "Test Error: \n",
      " Accuracy: 63.1%, Avg loss:1.536796 \n",
      "\n",
      "Epochs 3\n",
      "---------------------------------\n",
      "loss : 1.600127 [   64/60000]\n",
      "loss : 1.568912 [ 6464/60000]\n",
      "loss : 1.413239 [12864/60000]\n",
      "loss : 1.481189 [19264/60000]\n",
      "loss : 1.366932 [25664/60000]\n",
      "loss : 1.359573 [32064/60000]\n",
      "loss : 1.372295 [38464/60000]\n",
      "loss : 1.295740 [44864/60000]\n",
      "loss : 1.327318 [51264/60000]\n",
      "loss : 1.229380 [57664/60000]\n",
      "Test Error: \n",
      " Accuracy: 64.1%, Avg loss:1.255715 \n",
      "\n",
      "Epochs 4\n",
      "---------------------------------\n",
      "loss : 1.333416 [   64/60000]\n",
      "loss : 1.318578 [ 6464/60000]\n",
      "loss : 1.145565 [12864/60000]\n",
      "loss : 1.248268 [19264/60000]\n",
      "loss : 1.120848 [25664/60000]\n",
      "loss : 1.150261 [32064/60000]\n",
      "loss : 1.170151 [38464/60000]\n",
      "loss : 1.109325 [44864/60000]\n",
      "loss : 1.145833 [51264/60000]\n",
      "loss : 1.062109 [57664/60000]\n",
      "Test Error: \n",
      " Accuracy: 65.3%, Avg loss:1.084338 \n",
      "\n",
      "Epochs 5\n",
      "---------------------------------\n",
      "loss : 1.156766 [   64/60000]\n",
      "loss : 1.163645 [ 6464/60000]\n",
      "loss : 0.971659 [12864/60000]\n",
      "loss : 1.105417 [19264/60000]\n",
      "loss : 0.973213 [25664/60000]\n",
      "loss : 1.012817 [32064/60000]\n",
      "loss : 1.049115 [38464/60000]\n",
      "loss : 0.993771 [44864/60000]\n",
      "loss : 1.030741 [51264/60000]\n",
      "loss : 0.960263 [57664/60000]\n",
      "Test Error: \n",
      " Accuracy: 66.4%, Avg loss:0.976126 \n",
      "\n",
      "Epochs 6\n",
      "---------------------------------\n",
      "loss : 1.035202 [   64/60000]\n",
      "loss : 1.065152 [ 6464/60000]\n",
      "loss : 0.854569 [12864/60000]\n",
      "loss : 1.012241 [19264/60000]\n",
      "loss : 0.883224 [25664/60000]\n",
      "loss : 0.917150 [32064/60000]\n",
      "loss : 0.971792 [38464/60000]\n",
      "loss : 0.919281 [44864/60000]\n",
      "loss : 0.952476 [51264/60000]\n",
      "loss : 0.892923 [57664/60000]\n",
      "Test Error: \n",
      " Accuracy: 67.7%, Avg loss:0.903155 \n",
      "\n",
      "Epochs 7\n",
      "---------------------------------\n",
      "loss : 0.946617 [   64/60000]\n",
      "loss : 0.997190 [ 6464/60000]\n",
      "loss : 0.771044 [12864/60000]\n",
      "loss : 0.947039 [19264/60000]\n",
      "loss : 0.824258 [25664/60000]\n",
      "loss : 0.847214 [32064/60000]\n",
      "loss : 0.917861 [38464/60000]\n",
      "loss : 0.868981 [44864/60000]\n",
      "loss : 0.896597 [51264/60000]\n",
      "loss : 0.844611 [57664/60000]\n",
      "Test Error: \n",
      " Accuracy: 68.9%, Avg loss:0.850773 \n",
      "\n",
      "Epochs 8\n",
      "---------------------------------\n",
      "loss : 0.878671 [   64/60000]\n",
      "loss : 0.946042 [ 6464/60000]\n",
      "loss : 0.708826 [12864/60000]\n",
      "loss : 0.898846 [19264/60000]\n",
      "loss : 0.782866 [25664/60000]\n",
      "loss : 0.794665 [32064/60000]\n",
      "loss : 0.877113 [38464/60000]\n",
      "loss : 0.833437 [44864/60000]\n",
      "loss : 0.854829 [51264/60000]\n",
      "loss : 0.807736 [57664/60000]\n",
      "Test Error: \n",
      " Accuracy: 70.3%, Avg loss:0.811064 \n",
      "\n",
      "Epochs 9\n",
      "---------------------------------\n",
      "loss : 0.824363 [   64/60000]\n",
      "loss : 0.904918 [ 6464/60000]\n",
      "loss : 0.660765 [12864/60000]\n",
      "loss : 0.861601 [19264/60000]\n",
      "loss : 0.751624 [25664/60000]\n",
      "loss : 0.754366 [32064/60000]\n",
      "loss : 0.843970 [38464/60000]\n",
      "loss : 0.806848 [44864/60000]\n",
      "loss : 0.822541 [51264/60000]\n",
      "loss : 0.778049 [57664/60000]\n",
      "Test Error: \n",
      " Accuracy: 71.5%, Avg loss:0.779442 \n",
      "\n",
      "Epochs 10\n",
      "---------------------------------\n",
      "loss : 0.779617 [   64/60000]\n",
      "loss : 0.869936 [ 6464/60000]\n",
      "loss : 0.622312 [12864/60000]\n",
      "loss : 0.832003 [19264/60000]\n",
      "loss : 0.726697 [25664/60000]\n",
      "loss : 0.722837 [32064/60000]\n",
      "loss : 0.815471 [38464/60000]\n",
      "loss : 0.785736 [44864/60000]\n",
      "loss : 0.796465 [51264/60000]\n",
      "loss : 0.753245 [57664/60000]\n",
      "Test Error: \n",
      " Accuracy: 72.9%, Avg loss:0.753179 \n",
      "\n",
      "Done!\n"
     ]
    }
   ],
   "source": [
    "epochs = 10\n",
    "for t in range(epochs):\n",
    "    print(f'Epochs {t+1}\\n---------------------------------')\n",
    "    train(train_dataloader, model, loss_fn, optimizer)\n",
    "    test(test_dataloader, model, loss_fn)\n",
    "print('Done!')"
   ]
  },
  {
   "cell_type": "markdown",
   "id": "1583345a-4ec5-4497-bc99-a7089de08d29",
   "metadata": {},
   "source": [
    "### SAVING THE MODEL"
   ]
  },
  {
   "cell_type": "code",
   "execution_count": 71,
   "id": "1d3e851e-4148-4ade-b371-890dd0f76160",
   "metadata": {},
   "outputs": [
    {
     "name": "stdout",
     "output_type": "stream",
     "text": [
      "saved Pytorch model status to model.pth\n"
     ]
    }
   ],
   "source": [
    "torch.save(model.state_dict(), 'model.pth')\n",
    "print('saved Pytorch model status to model.pth')"
   ]
  },
  {
   "cell_type": "markdown",
   "id": "81a1b76d-847d-46f2-9d64-757ed60e5bfd",
   "metadata": {},
   "source": [
    "### LOADING THE MODEL"
   ]
  },
  {
   "cell_type": "code",
   "execution_count": 73,
   "id": "4c507e6b-721e-4a85-bd09-48891f9ff96c",
   "metadata": {},
   "outputs": [
    {
     "data": {
      "text/plain": [
       "<All keys matched successfully>"
      ]
     },
     "execution_count": 73,
     "metadata": {},
     "output_type": "execute_result"
    }
   ],
   "source": [
    "model = NN().to(device)\n",
    "model.load_state_dict(torch.load('model.pth', weights_only=True))"
   ]
  },
  {
   "cell_type": "code",
   "execution_count": 74,
   "id": "21e134ed-dda0-4d71-8ae9-2e4a73591768",
   "metadata": {},
   "outputs": [
    {
     "name": "stdout",
     "output_type": "stream",
     "text": [
      "Predicted: \"Ankle boot\", actual: \"Ankle boot\"\n"
     ]
    }
   ],
   "source": [
    "classes = [\n",
    "    \"T-shirt/top\",\n",
    "    \"Trouser\",\n",
    "    \"Pullover\",\n",
    "    \"Dress\",\n",
    "    \"Coat\",\n",
    "    \"Sandal\",\n",
    "    \"Shirt\",\n",
    "    \"Sneaker\",\n",
    "    \"Bag\",\n",
    "    \"Ankle boot\",\n",
    "]\n",
    "model.eval()\n",
    "x, y = test_data[0][0], test_data[0][1]\n",
    "with torch.no_grad():\n",
    "    x = x.to(device)\n",
    "    pred = model(x)\n",
    "    predicted, actual = classes[pred[0].argmax(0)], classes[y]\n",
    "    print(f'Predicted: \"{predicted}\", actual: \"{actual}\"')\n"
   ]
  },
  {
   "cell_type": "markdown",
   "id": "a7b20e8d-d71f-4c39-b578-a5627b340f89",
   "metadata": {},
   "source": [
    "# TENSORS"
   ]
  },
  {
   "cell_type": "code",
   "execution_count": 1,
   "id": "af04c20a-fff3-418e-811c-47b0f3f1a3dc",
   "metadata": {},
   "outputs": [],
   "source": [
    "import torch\n",
    "import numpy as np"
   ]
  },
  {
   "cell_type": "code",
   "execution_count": 2,
   "id": "2f105b71-9662-4d7a-8e96-924f1a1f926f",
   "metadata": {},
   "outputs": [],
   "source": [
    "dt = [[1,2], [3,4]]\n",
    "x_dt = torch.tensor(dt)"
   ]
  },
  {
   "cell_type": "code",
   "execution_count": 3,
   "id": "641f4059-b8a3-4b5f-88c0-793d669d8b49",
   "metadata": {},
   "outputs": [],
   "source": [
    "#tensors can be created from numpy arrays\n",
    "np_array = np.array(dt)\n",
    "x_np = torch.from_numpy(np_array)"
   ]
  },
  {
   "cell_type": "markdown",
   "id": "72cacc28-33db-45c5-8bb4-6eab934b430f",
   "metadata": {},
   "source": [
    "# LIST vs NUMPY vs TENSOR\n",
    "## Understanding Tensors in PyTorch\r\n",
    "\r\n",
    "A **tensor** in PyTorch is a multi-dimensional array that serves as the fundamental data structure for handling data in deep learning and numerical computations. Tensors are similar to NumPy arrays but come with additional capabilities that make them particularly useful for machine learning tasks.\r\n",
    "\r\n",
    "### Key Properties of Tensors\r\n",
    "- **Multi-dimensional**: Tensors can have any number of dimensions (referred to as ranks), enabling them to represent scalars (0D), vectors (1D), matrices (2D), and higher-dimensional data.\r\n",
    "- **Data Types**: Tensors can hold data of a uniform type (e.g., float32, int64) and are optimized for performance in mathematical operations.\r\n",
    "- **GPU Support**: Tensors can be moved to GPU memory for accelerated computation, which is crucial for training large models efficiently.\r\n",
    "- **Immutability**: Once created, the values in a tensor cannot be changed; instead, new tensors must be created for modified values. This immutability is beneficial in maintaining the integrity of data during computations[1][2][4].\r\n",
    "\r\n",
    "## Differences Between Lists, NumPy Arrays, and Tensors\r\n",
    "\r\n",
    "### Overview of Each Data Structure\r\n",
    "\r\n",
    "| Feature                | Python List                      | NumPy Array                     | PyTorch Tensor                  |\r\n",
    "|------------------------|----------------------------------|---------------------------------|---------------------------------|\r\n",
    "| **Definition**         | A collection of items, ordered and mutable. | A grid of values of the same type, used for numerical computations. | A multi-dimensional array optimized for deep learning tasks. |\r\n",
    "| **Dimensionality**     | Can be 1D or nested for higher dimensions. | Multi-dimensional (N-D).       | Multi-dimensional (N-D).       |\r\n",
    "| **Data Type**          | Can hold mixed data types (heterogeneous). | Homogeneous data type required. | Homogeneous data type required. |\r\n",
    "| **Memory Efficiency**  | Less efficient due to overhead. | More memory-efficient due to contiguous storage. | Similar efficiency to NumPy but optimized for GPU use. |\r\n",
    "| **Performance**        | Slower for numerical operations. | Fast due to optimized C backend. | Fast with GPU acceleration support. |\r\n",
    "| **Automatic Differentiation** | Not supported.                | Not supported.                  | Supported via Autograd module.  |\r\n",
    "\r\n",
    "### Detailed Comparisons\r\n",
    "\r\n",
    "- **Python Lists**:\r\n",
    "  - Lists are versatile and can store items of different types, but they are not optimized for numerical computations.\r\n",
    "  - Operations on lists are generally slower because they do not support element-wise operations natively.\r\n",
    "\r\n",
    "- **NumPy Arrays**:\r\n",
    "  - NumPy arrays are designed specifically for numerical computations, providing efficient storage and operations on large datasets.\r\n",
    "  - They support element-wise operations and broadcasting, making them suitable for mathematical calculations[3][4].\r\n",
    "  - However, they do not natively support GPU acceleration or automatic differentiation.\r\n",
    "\r\n",
    "- **PyTorch Tensors**:\r\n",
    "  - Tensors extend the functionality of NumPy arrays by adding GPU support and automatic differentiation capabilities.\r\n",
    "  - They allow seamless integration with deep learning models in PyTorch, making them essential when performing gradient-based optimization[2][6].\r\n",
    "  - Operations on tensors can be performed on both CPU and GPU, enhancing performance for large-scale computations.\r\n",
    "\r\n",
    "### Conclusion\r\n",
    "\r\n",
    "In summary, while Python lists are flexible and easy to use, they lack the performance optimizations needed for numerical tasks. NumPy arrays provide a significant improvement in efficiency for numerical operations but do not support GPU acceleration or automatic differentiation. PyTorch tensors combine the best features of both lists and arrays while adding essential functionalities required for deep learning applications, making them the preferred choice whenvs-tensorflow-tensors-95a9c39e1c17?gi=f0272e85c648"
   ]
  },
  {
   "cell_type": "code",
   "execution_count": 11,
   "id": "65e5f10f-fc0f-4f32-b724-86c16371dd70",
   "metadata": {},
   "outputs": [
    {
     "name": "stdout",
     "output_type": "stream",
     "text": [
      "ones tensor: \n",
      " tensor([[1, 1],\n",
      "        [1, 1]]) \n",
      "\n",
      "random tensor: \n",
      " tensor([[0.5880, 0.9595],\n",
      "        [0.5300, 0.7584]]) \n",
      "\n"
     ]
    }
   ],
   "source": [
    "x_ones = torch.ones_like(x_dt)\n",
    "print(f'ones tensor: \\n {x_ones} \\n')\n",
    "x_rand = torch.rand_like(x_dt, dtype=torch.float)\n",
    "print(f'random tensor: \\n {x_rand} \\n')"
   ]
  },
  {
   "cell_type": "code",
   "execution_count": 12,
   "id": "dba1837f-03b3-4e65-909a-b2e5e8391bbd",
   "metadata": {},
   "outputs": [
    {
     "name": "stdout",
     "output_type": "stream",
     "text": [
      "random tensor: \n",
      " tensor([[0.4205, 0.0287, 0.1476],\n",
      "        [0.1303, 0.6743, 0.0109]]) \n",
      "\n",
      "ones tensor: \n",
      " tensor([[1., 1., 1.],\n",
      "        [1., 1., 1.]]) \n",
      "\n",
      "zero tensor: \n",
      " tensor([[0., 0., 0.],\n",
      "        [0., 0., 0.]]) \n",
      "\n"
     ]
    }
   ],
   "source": [
    "shape = (2,3,)\n",
    "rand_tensor = torch.rand(shape)\n",
    "ones_tensor = torch.ones(shape)\n",
    "zero_tensor = torch.zeros(shape)\n",
    "\n",
    "print(f'random tensor: \\n {rand_tensor} \\n')\n",
    "print(f'ones tensor: \\n {ones_tensor} \\n')\n",
    "print(f'zero tensor: \\n {zero_tensor} \\n')"
   ]
  },
  {
   "cell_type": "markdown",
   "id": "07e629f0-3548-49da-b292-b616ac532244",
   "metadata": {},
   "source": [
    "### attributes of torch "
   ]
  },
  {
   "cell_type": "code",
   "execution_count": 13,
   "id": "3586b230-c0f2-4224-8189-349f2ba27633",
   "metadata": {},
   "outputs": [
    {
     "name": "stdout",
     "output_type": "stream",
     "text": [
      "shape of tensor: torch.Size([3, 4])\n",
      "datatype of tensor: torch.float32\n",
      "device centered for tensor operations: cpu\n"
     ]
    }
   ],
   "source": [
    "tensor = torch.rand(3,4)\n",
    "print(f'shape of tensor: {tensor.shape}')\n",
    "print(f'datatype of tensor: {tensor.dtype}')\n",
    "print(f'device centered for tensor operations: {tensor.device}')"
   ]
  },
  {
   "cell_type": "markdown",
   "id": "99a106c2-b25c-440f-967c-21e8c1799500",
   "metadata": {},
   "source": [
    "### operations on tensors "
   ]
  },
  {
   "cell_type": "code",
   "execution_count": 14,
   "id": "5dbcb041-bc0d-408e-bb23-05b514aebd6b",
   "metadata": {},
   "outputs": [],
   "source": [
    "if torch.cuda.is_available():\n",
    "    tensor = tensor.to('cuda')"
   ]
  },
  {
   "cell_type": "code",
   "execution_count": 15,
   "id": "860f5c90-6d65-4ba4-bdf0-0c70d3d0b2ba",
   "metadata": {},
   "outputs": [
    {
     "name": "stdout",
     "output_type": "stream",
     "text": [
      "1 st row: tensor([1., 1., 1., 1.])\n",
      "1 st column: tensor([1., 1., 1., 1.])\n",
      "last column: tensor([1., 1., 1., 1.])\n",
      "tensor([[1., 0., 1., 1.],\n",
      "        [1., 0., 1., 1.],\n",
      "        [1., 0., 1., 1.],\n",
      "        [1., 0., 1., 1.]])\n"
     ]
    }
   ],
   "source": [
    "tensor = torch.ones(4, 4)\n",
    "print(f'1 st row: {tensor[0]}')\n",
    "print(f'1 st column: {tensor[:, 0]}')\n",
    "print(f'last column: {tensor[..., -1]}')\n",
    "tensor[:, 1] = 0\n",
    "print(tensor)"
   ]
  },
  {
   "cell_type": "code",
   "execution_count": 17,
   "id": "954e1f28-32d9-4bf7-af1a-a0eeff9c8851",
   "metadata": {},
   "outputs": [
    {
     "name": "stdout",
     "output_type": "stream",
     "text": [
      "tensor([[1., 0., 1., 1., 1., 0., 1., 1., 1., 0., 1., 1.],\n",
      "        [1., 0., 1., 1., 1., 0., 1., 1., 1., 0., 1., 1.],\n",
      "        [1., 0., 1., 1., 1., 0., 1., 1., 1., 0., 1., 1.],\n",
      "        [1., 0., 1., 1., 1., 0., 1., 1., 1., 0., 1., 1.]])\n"
     ]
    }
   ],
   "source": [
    "# concatenate tensors\n",
    "t1 = torch.cat([tensor, tensor, tensor], dim=1)\n",
    "print(t1)"
   ]
  },
  {
   "cell_type": "code",
   "execution_count": 19,
   "id": "0a099da4-0eea-4520-b352-8190c2eda5d4",
   "metadata": {},
   "outputs": [
    {
     "name": "stdout",
     "output_type": "stream",
     "text": [
      "addtensor([[ 6,  8],\n",
      "        [10, 12]]), subtensor([[-4, -4],\n",
      "        [-4, -4]]), multensor([[ 5, 12],\n",
      "        [21, 32]]), divtensor([[0.2000, 0.3333],\n",
      "        [0.4286, 0.5000]])\n"
     ]
    }
   ],
   "source": [
    "# arthmetic operations \n",
    "a = torch.tensor([[1,2], [3,4]])\n",
    "b = torch.tensor([[5,6], [7,8]])\n",
    "result1 = torch.add(a,b)\n",
    "result2 = torch.sub(a,b)\n",
    "result3 = torch.mul(a,b)\n",
    "result4 = torch.div(a,b)\n",
    "print(f'add{result1}, sub{result2}, mul{result3}, div{result4}')"
   ]
  },
  {
   "cell_type": "code",
   "execution_count": 22,
   "id": "24a97aee-0fb2-45c7-bb01-97bc94a1de4e",
   "metadata": {},
   "outputs": [
    {
     "name": "stdout",
     "output_type": "stream",
     "text": [
      " matrix mul tensor([[19, 22],\n",
      "        [43, 50]]), transpose of a tensor([[1, 3],\n",
      "        [2, 4]]), reshape tensor([[1, 2, 3, 4]])\n"
     ]
    }
   ],
   "source": [
    "r = torch.mm(a,b)\n",
    "transpose = a.t()\n",
    "reshape = a.reshape(1,4)\n",
    "print(f' matrix mul {r}, transpose of a {transpose}, reshape {reshape}')"
   ]
  },
  {
   "cell_type": "code",
   "execution_count": 25,
   "id": "b520b68c-b3b1-4997-b46e-ff84271f2714",
   "metadata": {},
   "outputs": [
    {
     "ename": "RuntimeError",
     "evalue": "mean(): could not infer output dtype. Input dtype must be either a floating point or complex dtype. Got: Long",
     "output_type": "error",
     "traceback": [
      "\u001b[1;31m---------------------------------------------------------------------------\u001b[0m",
      "\u001b[1;31mRuntimeError\u001b[0m                              Traceback (most recent call last)",
      "Cell \u001b[1;32mIn[25], line 2\u001b[0m\n\u001b[0;32m      1\u001b[0m concate \u001b[38;5;241m=\u001b[39m torch\u001b[38;5;241m.\u001b[39mcat((a,b), dim\u001b[38;5;241m=\u001b[39m\u001b[38;5;241m0\u001b[39m)\n\u001b[1;32m----> 2\u001b[0m mean \u001b[38;5;241m=\u001b[39m a\u001b[38;5;241m.\u001b[39mmean(dim\u001b[38;5;241m=\u001b[39m\u001b[38;5;241m0\u001b[39m)\u001b[38;5;66;03m#mean along rows\u001b[39;00m\n\u001b[0;32m      3\u001b[0m std_dv \u001b[38;5;241m=\u001b[39m b\u001b[38;5;241m.\u001b[39mstd()\n\u001b[0;32m      4\u001b[0m max_val \u001b[38;5;241m=\u001b[39m b\u001b[38;5;241m.\u001b[39mmax()\n",
      "\u001b[1;31mRuntimeError\u001b[0m: mean(): could not infer output dtype. Input dtype must be either a floating point or complex dtype. Got: Long"
     ]
    }
   ],
   "source": [
    "concate = torch.cat((a,b), dim=0)\n",
    "mean = a.mean(dim=0)#mean along rows\n",
    "std_dv = b.std()\n",
    "max_val = b.max()\n",
    "min = b.min()\n",
    "angle = torch.tensor([0, math.pi / 2])\n",
    "sine = torch.sin(angle)\n",
    "cose = torch.cos(angle)\n",
    "print(concate, std_dv, max_val, min, angle, sine, cose)"
   ]
  },
  {
   "cell_type": "code",
   "execution_count": 27,
   "id": "2d918312-e9e4-48f7-9ad6-2a65f4c495ce",
   "metadata": {},
   "outputs": [
    {
     "data": {
      "text/plain": [
       "tensor([[3., 3., 3., 3.],\n",
       "        [3., 3., 3., 3.],\n",
       "        [3., 3., 3., 3.],\n",
       "        [3., 3., 3., 3.]])"
      ]
     },
     "execution_count": 27,
     "metadata": {},
     "output_type": "execute_result"
    }
   ],
   "source": [
    "y1 = tensor @ tensor.T\n",
    "y2 = tensor.matmul(tensor.T)\n",
    "y3 = torch.rand_like(y1)\n",
    "torch.matmul(tensor, tensor.T, out=y3)"
   ]
  },
  {
   "cell_type": "code",
   "execution_count": 28,
   "id": "80a187cd-84f9-45ab-912c-97a94df6a59d",
   "metadata": {},
   "outputs": [
    {
     "data": {
      "text/plain": [
       "tensor([[1., 0., 1., 1.],\n",
       "        [1., 0., 1., 1.],\n",
       "        [1., 0., 1., 1.],\n",
       "        [1., 0., 1., 1.]])"
      ]
     },
     "execution_count": 28,
     "metadata": {},
     "output_type": "execute_result"
    }
   ],
   "source": [
    "z1 = tensor * tensor\n",
    "z2 = tensor.mul(tensor)\n",
    "z3 = torch.rand_like(tensor)\n",
    "torch.mul(tensor, tensor, out=z3)"
   ]
  },
  {
   "cell_type": "code",
   "execution_count": 30,
   "id": "a6f087a1-f1b0-4766-a2f8-4b1c661a77bd",
   "metadata": {},
   "outputs": [
    {
     "name": "stdout",
     "output_type": "stream",
     "text": [
      "12.0 <class 'float'>\n"
     ]
    }
   ],
   "source": [
    "# single element tensor\n",
    "af = tensor.sum()\n",
    "af_item = af.item()\n",
    "print(af_item, type(af_item))"
   ]
  },
  {
   "cell_type": "code",
   "execution_count": 31,
   "id": "c73ffddf-ebe8-4e47-985b-dcfd782297af",
   "metadata": {},
   "outputs": [
    {
     "name": "stdout",
     "output_type": "stream",
     "text": [
      "tensor([[1., 0., 1., 1.],\n",
      "        [1., 0., 1., 1.],\n",
      "        [1., 0., 1., 1.],\n",
      "        [1., 0., 1., 1.]])\n",
      "\n",
      "tensor([[6., 5., 6., 6.],\n",
      "        [6., 5., 6., 6.],\n",
      "        [6., 5., 6., 6.],\n",
      "        [6., 5., 6., 6.]])\n"
     ]
    }
   ],
   "source": [
    "#in-place operations, store result in operand\n",
    "print(f'{tensor}\\n')\n",
    "tensor.add_(5)\n",
    "print(tensor)"
   ]
  },
  {
   "cell_type": "code",
   "execution_count": 32,
   "id": "726c8892-a325-4e7a-92f0-538cfb9caa88",
   "metadata": {},
   "outputs": [
    {
     "name": "stdout",
     "output_type": "stream",
     "text": [
      "t: tensor([1., 1., 1., 1., 1.])\n",
      "n :[1. 1. 1. 1. 1.]\n"
     ]
    }
   ],
   "source": [
    "# tensors to Numpy \n",
    "t = torch.ones(5)\n",
    "print(f't: {t}')\n",
    "n = t.numpy()\n",
    "print(f'n :{n}')"
   ]
  },
  {
   "cell_type": "code",
   "execution_count": 33,
   "id": "cd7079de-53ab-4d10-99e6-6c89fd2311e5",
   "metadata": {},
   "outputs": [
    {
     "data": {
      "text/plain": [
       "tensor([2., 2., 2., 2., 2.])"
      ]
     },
     "execution_count": 33,
     "metadata": {},
     "output_type": "execute_result"
    }
   ],
   "source": [
    "t.add_(1)"
   ]
  },
  {
   "cell_type": "markdown",
   "id": "42592625-77eb-4a6c-8f7a-94823dcc647e",
   "metadata": {},
   "source": [
    "# LOADING DATA AND DATASETS "
   ]
  },
  {
   "cell_type": "code",
   "execution_count": 3,
   "id": "84a16795-3e9f-44f1-8154-064f018eb894",
   "metadata": {},
   "outputs": [],
   "source": [
    "import torch \n",
    "from torch.utils.data import Dataset\n",
    "from torchvision import datasets \n",
    "from torchvision.transforms import ToTensor\n",
    "import matplotlib.pyplot as plt"
   ]
  },
  {
   "cell_type": "markdown",
   "id": "9694eeac-23b7-4e97-a41b-d9aff19d65da",
   "metadata": {},
   "source": [
    "The `torchvision.transforms` module in PyTorch provides a comprehensive suite of tools for image preprocessing and augmentation, essential for preparing data for training and inference in computer vision tasks. The `ToTensor` transform is a specific function within this module that plays a crucial role in converting images into a format suitable for PyTorch models.\r\n",
    "\r\n",
    "## Overview of `torchvision.transforms`\r\n",
    "\r\n",
    "The `torchvision.transforms` module includes a variety of image transformations that can be applied to images. These transformations can be combined using the `Compose` class, allowing for the creation of complex preprocessing pipelines. Key features include:\r\n",
    "\r\n",
    "- **Common Transformations**: Includes operations like resizing, cropping, normalization, and color adjustments.\r\n",
    "- **Support for Different Input Types**: Transforms can accept both PIL Images and PyTorch Tensors as input, making them versatile for various workflows.\r\n",
    "- **Functional API**: In addition to class-based transforms, there is also a functional API that allows more granular control over transformations, which is useful for complex scenarios like segmentation tasks[1][2][3].\r\n",
    "\r\n",
    "### Examples of Common Transforms\r\n",
    "\r\n",
    "- **Resize**: Resizes an image to a specified size.\r\n",
    "- **CenterCrop**: Crops the image at its center to a specified size.\r\n",
    "- **Normalize**: Normalizes a tensor image with mean and standard deviation values.\r\n",
    "- **ColorJitter**: Randomly changes the brightness, contrast, saturation, and hue of an image[2][3].\r\n",
    "\r\n",
    "## The `ToTensor` Transform\r\n",
    "\r\n",
    "The `ToTensor` transform is specifically designed to convert a PIL Image or NumPy ndarray into a PyTorch Tensor. Here are its key characteristics:\r\n",
    "\r\n",
    "- **Input and Output**: It takes a PIL Image or NumPy array as input and outputs a Tensor. The resulting Tensor has the shape $$(C, H, W)$$, where $$C$$ is the number of channels (e.g., 3 for RGB images), $$H$$ is the height, and $$W$$ is the width[1][2].\r\n",
    "- **Value Scaling**: The pixel values are scaled from the range $$[0, 255]$$ (for uint8 images) to $$[0.0, 1.0]$$ (for float tensors), which is often required for neuwng specified mean and standard deviation values.\r\n",
    "\r\n",
    "## Conclusion\r\n",
    "\r\n",
    "The `torchvision.transforms` module provides essential tools for preprocessing images in PyTorch workflows, while the `ToTensor` function specifically facilitates the conversion of images into tensors suitable for model input. Together, they enable efficient data preparation for various computer vision tasksations.html\r\n",
    "[8] https://pytorch.org/vision/2.0/transforms.html"
   ]
  },
  {
   "cell_type": "code",
   "execution_count": 4,
   "id": "e6bc7ee5-8169-4d9f-8b98-ded4418fb141",
   "metadata": {},
   "outputs": [],
   "source": [
    "train_dt = datasets.FashionMNIST(\n",
    "    root = 'data',\n",
    "    train = True,\n",
    "    download=True,\n",
    "    transform=ToTensor()\n",
    ")\n",
    "\n",
    "test_dt = datasets.FashionMNIST(\n",
    "    root = 'data',\n",
    "    train = False,\n",
    "    download=True,\n",
    "    transform=ToTensor()\n",
    ")"
   ]
  },
  {
   "cell_type": "code",
   "execution_count": 5,
   "id": "f6470a06-8303-41dd-8539-feee8ed5d10b",
   "metadata": {},
   "outputs": [
    {
     "data": {
      "image/png": "[encoded data removed]",
      "text/plain": [
       "<Figure size 800x800 with 9 Axes>"
      ]
     },
     "metadata": {},
     "output_type": "display_data"
    }
   ],
   "source": [
    "#visualizing the dataset \n",
    "labels_map = {\n",
    "    0: \"T-Shirt\",\n",
    "    1: \"Trouser\",\n",
    "    2: \"Pullover\",\n",
    "    3: \"Dress\",\n",
    "    4: \"Coat\",\n",
    "    5: \"Sandal\",\n",
    "    6: \"Shirt\",\n",
    "    7: \"Sneaker\",\n",
    "    8: \"Bag\",\n",
    "    9: \"Ankle Boot\",\n",
    "}\n",
    "\n",
    "figure = plt.figure(figsize=(8,8))\n",
    "cols, row = 3,3\n",
    "for i in range(1, cols * row + 1):\n",
    "    sample_idx = torch.randint(len(train_dt), size=(1,)).item()\n",
    "    img, label = train_dt[sample_idx]\n",
    "    figure.add_subplot(row, cols, i)\n",
    "    plt.title(labels_map[label])\n",
    "    plt.axis('off')\n",
    "    plt.imshow(img.squeeze(), cmap='gray')\n",
    "plt.show()"
   ]
  },
  {
   "cell_type": "markdown",
   "id": "ad01734d-228d-454f-a165-0e68ba27e495",
   "metadata": {},
   "source": [
    "### CREATING CUSTOM DATASET FOR FILES"
   ]
  },
  {
   "cell_type": "code",
   "execution_count": 6,
   "id": "c3b6e2ef-0792-4f16-a7b3-7d7f7ebeffc3",
   "metadata": {},
   "outputs": [],
   "source": [
    "import os\n",
    "import pandas as pd\n",
    "from torchvision.io import read_image "
   ]
  },
  {
   "cell_type": "code",
   "execution_count": 7,
   "id": "f531fd30-1c71-460a-b3a7-af134f795542",
   "metadata": {},
   "outputs": [],
   "source": [
    "class CD(Dataset):\n",
    "    def __init__(self, annotation_file, img_dir, transform=None, target_transform=None):\n",
    "        self.img_labels = pd.read_csv(annotation_file)\n",
    "        self.img_dir = img_dir\n",
    "        self.transform = transform\n",
    "        self.target_transform = target_transform\n",
    "\n",
    "    def __len__(self):\n",
    "        return len(self.img_labels)\n",
    "\n",
    "    def __getitem__(self, idx):\n",
    "        img_path = os.path.join(self.img_dir, self.img_labels.iloc[idx, 0])\n",
    "        image = read_image(img_path)\n",
    "        label = self.img_labels.iloc[idx, 1]\n",
    "        if self.transform:\n",
    "            image = self.transform(image)\n",
    "        if self.target_transform:\n",
    "            label = self.target_transform(label)\n",
    "        return image, label"
   ]
  },
  {
   "cell_type": "code",
   "execution_count": 8,
   "id": "c7da04d7-d3f7-4089-9ae5-ccef381e534f",
   "metadata": {},
   "outputs": [],
   "source": [
    "def __init__(self, annotation_file, img_dir, transform=None, target_transform=None):\n",
    "    self.img_labels = pd.erad_csv(annotation_file)\n",
    "    self.img_dir = img_dir\n",
    "    self.transform = transform\n",
    "    self.target_transform = target_transform"
   ]
  },
  {
   "cell_type": "code",
   "execution_count": 10,
   "id": "80f62823-ded0-40b8-813c-113cd76c6e20",
   "metadata": {},
   "outputs": [],
   "source": [
    "def __getitem__(self, idx): #this f(x) loads and retuns the sameple of dtset of given idx\n",
    "    img_path = os.path.join(self.img_dir, self.img_labels.iloc[idx, 0])\n",
    "    image = read_image(img_path)\n",
    "    label = self.img_labels.iloc[idx, 1]\n",
    "    if self.transform:\n",
    "        image = self.transform(image)\n",
    "    if self.target_transform:\n",
    "        label = self.target_transform(label)\n",
    "    return image, label"
   ]
  },
  {
   "cell_type": "markdown",
   "id": "119f7028-c007-4ee2-845a-eefb71bcc8d0",
   "metadata": {},
   "source": [
    "### PREPARING DT FOR TRAIN WITH DTLOADERS"
   ]
  },
  {
   "cell_type": "code",
   "execution_count": 12,
   "id": "c4132569-d4ec-4d71-b168-64ff992a2609",
   "metadata": {},
   "outputs": [],
   "source": [
    "from torch.utils.data import DataLoader\n",
    "\n",
    "train_dt = DataLoader(train_dt, batch_size=64, shuffle=True)\n",
    "test_dt = DataLoader(test_dt, batch_size=64, shuffle=True)"
   ]
  },
  {
   "cell_type": "code",
   "execution_count": 14,
   "id": "7c47dee9-18cd-4353-afa7-95a2f0c0dd81",
   "metadata": {},
   "outputs": [
    {
     "name": "stdout",
     "output_type": "stream",
     "text": [
      "Feature bath shape: torch.Size([64, 1, 28, 28])\n",
      "labels bath shape: torch.Size([64])\n"
     ]
    },
    {
     "data": {
      "image/png": "[encoded data removed]",
      "text/plain": [
       "<Figure size 640x480 with 1 Axes>"
      ]
     },
     "metadata": {},
     "output_type": "display_data"
    },
    {
     "name": "stdout",
     "output_type": "stream",
     "text": [
      "Label: 4\n"
     ]
    }
   ],
   "source": [
    "train_f, train_l = next(iter(train_dt))\n",
    "print(f'Feature bath shape: {train_f.size()}')\n",
    "print(f'labels bath shape: {train_l.size()}')\n",
    "img = train_f[0].squeeze()\n",
    "label = train_l[0]\n",
    "plt.imshow(img, cmap='gray')\n",
    "plt.show()\n",
    "print(f'Label: {label}')"
   ]
  },
  {
   "cell_type": "markdown",
   "id": "449efa74-9aca-462e-b182-7d43a34b8937",
   "metadata": {},
   "source": [
    "### TRANSFORM (data)"
   ]
  },
  {
   "cell_type": "code",
   "execution_count": 1,
   "id": "7bde1b2e-331c-43cb-8a63-0a60c4c10f59",
   "metadata": {},
   "outputs": [],
   "source": [
    "import torch\n",
    "from torchvision import datasets \n",
    "from torchvision.transforms import ToTensor, Lambda"
   ]
  },
  {
   "cell_type": "code",
   "execution_count": 2,
   "id": "e7adffe0-c25b-4e8f-8d1f-17eb65c8bd87",
   "metadata": {},
   "outputs": [],
   "source": [
    "ds = datasets.FashionMNIST(\n",
    "    root = 'data',\n",
    "    train = True,\n",
    "    download = True,\n",
    "    transform = ToTensor(),\n",
    "    target_transform=Lambda(lambda Y: torch.zeros(10, dtype=torch.float).scatter_(0, torch.tensor(y), value=1))\n",
    ")"
   ]
  },
  {
   "cell_type": "markdown",
   "id": "380c0e8c-5910-4add-ac6a-9d85f0429d5c",
   "metadata": {},
   "source": [
    "### BUILD NN"
   ]
  },
  {
   "cell_type": "code",
   "execution_count": 16,
   "id": "06fb1dcb-2d31-47ea-a897-23044d590a2e",
   "metadata": {},
   "outputs": [],
   "source": [
    "import os\n",
    "import torch\n",
    "from torch import nn\n",
    "from torch.utils.data import DataLoader\n",
    "from torchvision import datasets, transforms"
   ]
  },
  {
   "cell_type": "code",
   "execution_count": 17,
   "id": "32c32857-0382-41f9-b351-48f36ea75baa",
   "metadata": {},
   "outputs": [
    {
     "name": "stdout",
     "output_type": "stream",
     "text": [
      "Using cuda device\n"
     ]
    }
   ],
   "source": [
    "device = (\n",
    "    'cuda'\n",
    "    if torch.cuda.is_available()\n",
    "    else 'mps'\n",
    "    if torch.backends.mps.is_available()\n",
    "    else 'cpu'\n",
    ")\n",
    "print(f'Using {device} device')"
   ]
  },
  {
   "cell_type": "markdown",
   "id": "e23809f5-5c5b-4542-93ff-a02f9d4f2d49",
   "metadata": {},
   "source": [
    "### DEFINING CLASS"
   ]
  },
  {
   "cell_type": "code",
   "execution_count": 18,
   "id": "de2ecfd5-4ab8-4b94-9f63-2b9053b9dd89",
   "metadata": {},
   "outputs": [],
   "source": [
    "class NN(nn.Module):\n",
    "    def __init__(self):\n",
    "        super().__init__() # super is a way to call the constructor\n",
    "        self.flatten = nn.Flatten()\n",
    "        self.linear_relu_stack = nn.Sequential(\n",
    "            nn.Linear(28*28, 512),\n",
    "            nn.ReLU(),\n",
    "            nn.Linear(512, 512),\n",
    "            nn.ReLU(),\n",
    "            nn.Linear(512, 10),\n",
    "        )\n",
    "\n",
    "    def forward(self, x):\n",
    "        x = self.flatten(x)\n",
    "        logits = self.linear_relu_stack(x)\n",
    "        return logits"
   ]
  },
  {
   "cell_type": "code",
   "execution_count": 19,
   "id": "6ebeb9eb-2d5f-4f96-8eae-e025159d630f",
   "metadata": {},
   "outputs": [
    {
     "name": "stdout",
     "output_type": "stream",
     "text": [
      "NN(\n",
      "  (flatten): Flatten(start_dim=1, end_dim=-1)\n",
      "  (linear_relu_stack): Sequential(\n",
      "    (0): Linear(in_features=784, out_features=512, bias=True)\n",
      "    (1): ReLU()\n",
      "    (2): Linear(in_features=512, out_features=512, bias=True)\n",
      "    (3): ReLU()\n",
      "    (4): Linear(in_features=512, out_features=10, bias=True)\n",
      "  )\n",
      ")\n"
     ]
    }
   ],
   "source": [
    "model = NN().to(device)\n",
    "print(model)"
   ]
  },
  {
   "cell_type": "code",
   "execution_count": 20,
   "id": "1b806072-edfb-4b14-8e1d-69271f4c25f6",
   "metadata": {},
   "outputs": [
    {
     "name": "stdout",
     "output_type": "stream",
     "text": [
      "predicted class: tensor([7], device='cuda:0')\n"
     ]
    }
   ],
   "source": [
    "X = torch.rand(1, 28, 28, device=device)\n",
    "logits = model(X)\n",
    "pred_p = nn.Softmax(dim=1)(logits)\n",
    "y_pred = pred_p.argmax(1)\n",
    "print(f'predicted class: {y_pred}')"
   ]
  },
  {
   "cell_type": "code",
   "execution_count": 21,
   "id": "ee15aab9-d456-49f3-81fa-771219c3318a",
   "metadata": {},
   "outputs": [
    {
     "name": "stdout",
     "output_type": "stream",
     "text": [
      "torch.Size([3, 28, 28])\n"
     ]
    }
   ],
   "source": [
    "# model layers\n",
    "ip_img = torch.rand(3, 28, 28)\n",
    "print(ip_img.size())"
   ]
  },
  {
   "cell_type": "code",
   "execution_count": 22,
   "id": "9a04f1bc-108d-4525-91bf-28f98605d7de",
   "metadata": {},
   "outputs": [
    {
     "name": "stdout",
     "output_type": "stream",
     "text": [
      "tensor([[0.1896, 0.1623, 0.4136,  ..., 0.1996, 0.0297, 0.4836],\n",
      "        [0.4199, 0.7787, 0.5152,  ..., 0.1099, 0.6955, 0.0359],\n",
      "        [0.4280, 0.6465, 0.5502,  ..., 0.2341, 0.0727, 0.3331]])\n"
     ]
    }
   ],
   "source": [
    "flatten = nn.Flatten()\n",
    "flat_img = flatten(ip_img)\n",
    "print(flat_img)"
   ]
  },
  {
   "cell_type": "code",
   "execution_count": 26,
   "id": "8ac3bfd0-ac4e-4fa4-865b-9192c9d4ddfe",
   "metadata": {},
   "outputs": [
    {
     "ename": "AttributeError",
     "evalue": "'ReLU' object has no attribute 'size'",
     "output_type": "error",
     "traceback": [
      "\u001b[1;31m---------------------------------------------------------------------------\u001b[0m",
      "\u001b[1;31mAttributeError\u001b[0m                            Traceback (most recent call last)",
      "Cell \u001b[1;32mIn[26], line 4\u001b[0m\n\u001b[0;32m      2\u001b[0m ly1 \u001b[38;5;241m=\u001b[39m nn\u001b[38;5;241m.\u001b[39mLinear(in_features\u001b[38;5;241m=\u001b[39m\u001b[38;5;241m28\u001b[39m\u001b[38;5;241m*\u001b[39m\u001b[38;5;241m28\u001b[39m, out_features\u001b[38;5;241m=\u001b[39m\u001b[38;5;241m20\u001b[39m)\n\u001b[0;32m      3\u001b[0m hid2 \u001b[38;5;241m=\u001b[39m ly1(flat_img)\n\u001b[1;32m----> 4\u001b[0m \u001b[38;5;28mprint\u001b[39m(hid1\u001b[38;5;241m.\u001b[39msize())\n",
      "File \u001b[1;32m~\\anaconda3\\envs\\pytorch\\Lib\\site-packages\\torch\\nn\\modules\\module.py:1931\u001b[0m, in \u001b[0;36mModule.__getattr__\u001b[1;34m(self, name)\u001b[0m\n\u001b[0;32m   1929\u001b[0m     \u001b[38;5;28;01mif\u001b[39;00m name \u001b[38;5;129;01min\u001b[39;00m modules:\n\u001b[0;32m   1930\u001b[0m         \u001b[38;5;28;01mreturn\u001b[39;00m modules[name]\n\u001b[1;32m-> 1931\u001b[0m \u001b[38;5;28;01mraise\u001b[39;00m \u001b[38;5;167;01mAttributeError\u001b[39;00m(\n\u001b[0;32m   1932\u001b[0m     \u001b[38;5;124mf\u001b[39m\u001b[38;5;124m\"\u001b[39m\u001b[38;5;124m'\u001b[39m\u001b[38;5;132;01m{\u001b[39;00m\u001b[38;5;28mtype\u001b[39m(\u001b[38;5;28mself\u001b[39m)\u001b[38;5;241m.\u001b[39m\u001b[38;5;18m__name__\u001b[39m\u001b[38;5;132;01m}\u001b[39;00m\u001b[38;5;124m'\u001b[39m\u001b[38;5;124m object has no attribute \u001b[39m\u001b[38;5;124m'\u001b[39m\u001b[38;5;132;01m{\u001b[39;00mname\u001b[38;5;132;01m}\u001b[39;00m\u001b[38;5;124m'\u001b[39m\u001b[38;5;124m\"\u001b[39m\n\u001b[0;32m   1933\u001b[0m )\n",
      "\u001b[1;31mAttributeError\u001b[0m: 'ReLU' object has no attribute 'size'"
     ]
    }
   ],
   "source": [
    "#nn.Linear used to apply linear transformation on i/p using stored wts and bias\n",
    "ly1 = nn.Linear(in_features=28*28, out_features=20)\n",
    "hid2 = ly1(flat_img)\n",
    "print(hid1.size())"
   ]
  },
  {
   "cell_type": "code",
   "execution_count": 24,
   "id": "da898e76-52d2-4fe5-9da3-a9c2d946a5a5",
   "metadata": {},
   "outputs": [
    {
     "ename": "RuntimeError",
     "evalue": "Boolean value of Tensor with more than one value is ambiguous",
     "output_type": "error",
     "traceback": [
      "\u001b[1;31m---------------------------------------------------------------------------\u001b[0m",
      "\u001b[1;31mRuntimeError\u001b[0m                              Traceback (most recent call last)",
      "Cell \u001b[1;32mIn[24], line 2\u001b[0m\n\u001b[0;32m      1\u001b[0m \u001b[38;5;66;03m# activation function \u001b[39;00m\n\u001b[1;32m----> 2\u001b[0m \u001b[38;5;28mprint\u001b[39m(\u001b[38;5;124mf\u001b[39m\u001b[38;5;124m'\u001b[39m\u001b[38;5;124mBefore rleu \u001b[39m\u001b[38;5;132;01m{\u001b[39;00mhid1\u001b[38;5;132;01m}\u001b[39;00m\u001b[38;5;130;01m\\n\u001b[39;00m\u001b[38;5;130;01m\\n\u001b[39;00m\u001b[38;5;124m'\u001b[39m)\n\u001b[0;32m      3\u001b[0m hid1 \u001b[38;5;241m=\u001b[39m nn\u001b[38;5;241m.\u001b[39mReLU(hid1)\n\u001b[0;32m      4\u001b[0m \u001b[38;5;28mprint\u001b[39m(\u001b[38;5;124mf\u001b[39m\u001b[38;5;124m'\u001b[39m\u001b[38;5;124mAfter relu \u001b[39m\u001b[38;5;132;01m{\u001b[39;00mhid1\u001b[38;5;132;01m}\u001b[39;00m\u001b[38;5;124m'\u001b[39m)\n",
      "File \u001b[1;32m~\\anaconda3\\envs\\pytorch\\Lib\\site-packages\\torch\\nn\\modules\\module.py:2937\u001b[0m, in \u001b[0;36mModule.__repr__\u001b[1;34m(self)\u001b[0m\n\u001b[0;32m   2934\u001b[0m \u001b[38;5;28;01mdef\u001b[39;00m \u001b[38;5;21m__repr__\u001b[39m(\u001b[38;5;28mself\u001b[39m):\n\u001b[0;32m   2935\u001b[0m     \u001b[38;5;66;03m# We treat the extra repr like the sub-module, one item per line\u001b[39;00m\n\u001b[0;32m   2936\u001b[0m     extra_lines \u001b[38;5;241m=\u001b[39m []\n\u001b[1;32m-> 2937\u001b[0m     extra_repr \u001b[38;5;241m=\u001b[39m \u001b[38;5;28mself\u001b[39m\u001b[38;5;241m.\u001b[39mextra_repr()\n\u001b[0;32m   2938\u001b[0m     \u001b[38;5;66;03m# empty string will be split into list ['']\u001b[39;00m\n\u001b[0;32m   2939\u001b[0m     \u001b[38;5;28;01mif\u001b[39;00m extra_repr:\n",
      "File \u001b[1;32m~\\anaconda3\\envs\\pytorch\\Lib\\site-packages\\torch\\nn\\modules\\activation.py:136\u001b[0m, in \u001b[0;36mReLU.extra_repr\u001b[1;34m(self)\u001b[0m\n\u001b[0;32m    135\u001b[0m \u001b[38;5;28;01mdef\u001b[39;00m \u001b[38;5;21mextra_repr\u001b[39m(\u001b[38;5;28mself\u001b[39m) \u001b[38;5;241m-\u001b[39m\u001b[38;5;241m>\u001b[39m \u001b[38;5;28mstr\u001b[39m:\n\u001b[1;32m--> 136\u001b[0m     inplace_str \u001b[38;5;241m=\u001b[39m \u001b[38;5;124m\"\u001b[39m\u001b[38;5;124minplace=True\u001b[39m\u001b[38;5;124m\"\u001b[39m \u001b[38;5;28;01mif\u001b[39;00m \u001b[38;5;28mself\u001b[39m\u001b[38;5;241m.\u001b[39minplace \u001b[38;5;28;01melse\u001b[39;00m \u001b[38;5;124m\"\u001b[39m\u001b[38;5;124m\"\u001b[39m\n\u001b[0;32m    137\u001b[0m     \u001b[38;5;28;01mreturn\u001b[39;00m inplace_str\n",
      "\u001b[1;31mRuntimeError\u001b[0m: Boolean value of Tensor with more than one value is ambiguous"
     ]
    }
   ],
   "source": [
    "# activation function \n",
    "print(f'Before rleu {hid1}\\n\\n')\n",
    "hid1 = nn.ReLU(hid1)\n",
    "print(f'After relu {hid1}')"
   ]
  },
  {
   "cell_type": "code",
   "execution_count": null,
   "id": "e569052e-b3ab-492f-b664-03a047e3b3d7",
   "metadata": {},
   "outputs": [],
   "source": []
  },
  {
   "cell_type": "code",
   "execution_count": 8,
   "id": "6405a2e5-14e0-41b3-bf1e-ef2899b8258c",
   "metadata": {},
   "outputs": [
    {
     "name": "stdout",
     "output_type": "stream",
     "text": [
      "Thu Dec  5 20:29:28 2024       \n",
      "+-----------------------------------------------------------------------------------------+\n",
      "| NVIDIA-SMI 556.12                 Driver Version: 556.12         CUDA Version: 12.5     |\n",
      "|-----------------------------------------+------------------------+----------------------+\n",
      "| GPU  Name                  Driver-Model | Bus-Id          Disp.A | Volatile Uncorr. ECC |\n",
      "| Fan  Temp   Perf          Pwr:Usage/Cap |           Memory-Usage | GPU-Util  Compute M. |\n",
      "|                                         |                        |               MIG M. |\n",
      "|=========================================+========================+======================|\n",
      "|   0  NVIDIA GeForce MX330         WDDM  |   00000000:01:00.0 Off |                  N/A |\n",
      "| N/A   46C    P0             N/A / ERR!  |       0MiB /   2048MiB |      2%      Default |\n",
      "|                                         |                        |                  N/A |\n",
      "+-----------------------------------------+------------------------+----------------------+\n",
      "                                                                                         \n",
      "+-----------------------------------------------------------------------------------------+\n",
      "| Processes:                                                                              |\n",
      "|  GPU   GI   CI        PID   Type   Process name                              GPU Memory |\n",
      "|        ID   ID                                                               Usage      |\n",
      "|=========================================================================================|\n",
      "|  No running processes found                                                             |\n",
      "+-----------------------------------------------------------------------------------------+\n"
     ]
    }
   ],
   "source": [
    "!nvidia-smi"
   ]
  },
  {
   "cell_type": "code",
   "execution_count": 1,
   "id": "99b58156-9ac6-402f-9022-4a4c1403a8b1",
   "metadata": {},
   "outputs": [],
   "source": [
    "import torch  "
   ]
  },
  {
   "cell_type": "code",
   "execution_count": 10,
   "id": "d7c39cfe-cae4-4ff4-9b92-6e6eed5dd69b",
   "metadata": {},
   "outputs": [
    {
     "name": "stdout",
     "output_type": "stream",
     "text": [
      "torch.int32\n"
     ]
    }
   ],
   "source": [
    "x = torch.ones(2,2, dtype=torch.int)\n",
    "print(x.dtype)"
   ]
  },
  {
   "cell_type": "code",
   "execution_count": 11,
   "id": "773b3c1d-1505-4a9f-b2ce-5201fdbf909b",
   "metadata": {},
   "outputs": [
    {
     "name": "stdout",
     "output_type": "stream",
     "text": [
      "tensor([2.5000, 0.1000])\n"
     ]
    }
   ],
   "source": [
    "y = torch.tensor([2.5, 0.1])\n",
    "print(y)"
   ]
  },
  {
   "cell_type": "code",
   "execution_count": 12,
   "id": "9094a283-54b1-4880-b6b3-178542aad184",
   "metadata": {},
   "outputs": [
    {
     "name": "stdout",
     "output_type": "stream",
     "text": [
      "tensor([[0.8155, 0.5194],\n",
      "        [0.3397, 0.3823]])\n",
      "tensor([[0.0811, 0.4409],\n",
      "        [0.8249, 0.2792]])\n",
      "tensor([[0.0811, 0.4409],\n",
      "        [0.8249, 0.2792]])\n"
     ]
    }
   ],
   "source": [
    "x = torch.rand(2,2)\n",
    "y = torch.rand(2,2)\n",
    "print(x)\n",
    "print(y)\n",
    "z = x + y\n",
    "z = torch.add(x,y)\n",
    "print(y)"
   ]
  },
  {
   "cell_type": "code",
   "execution_count": 13,
   "id": "78d3a7bb-bb53-4cf6-9b55-6aaebf82ed19",
   "metadata": {},
   "outputs": [
    {
     "name": "stdout",
     "output_type": "stream",
     "text": [
      "tensor([[0.8966, 0.9604],\n",
      "        [1.1646, 0.6615]])\n"
     ]
    }
   ],
   "source": [
    "#inplace operation\n",
    "y.add_(x)\n",
    "print(y)"
   ]
  },
  {
   "cell_type": "code",
   "execution_count": 4,
   "id": "ac26c351-831b-48e9-9c04-3999ac7e5dc1",
   "metadata": {},
   "outputs": [
    {
     "name": "stdout",
     "output_type": "stream",
     "text": [
      "tensor([[0.0333, 0.8546, 0.5295],\n",
      "        [0.9845, 0.3688, 0.5513],\n",
      "        [0.0127, 0.9688, 0.0455],\n",
      "        [0.9474, 0.9375, 0.2002],\n",
      "        [0.1314, 0.2703, 0.5844]])\n",
      "0.3687746524810791\n"
     ]
    }
   ],
   "source": [
    "x = torch.rand(5,3)\n",
    "print(x)\n",
    "print(x[1,1].item()) # item gets the actual value of the tensor"
   ]
  },
  {
   "cell_type": "code",
   "execution_count": 7,
   "id": "e24e4490-e50e-48b5-9bb8-ecd4f0918c1c",
   "metadata": {},
   "outputs": [
    {
     "name": "stdout",
     "output_type": "stream",
     "text": [
      "tensor([[0.6572, 0.7956, 0.6832, 0.9531],\n",
      "        [0.5601, 0.1127, 0.8137, 0.5487],\n",
      "        [0.8238, 0.1481, 0.9735, 0.3790],\n",
      "        [0.4216, 0.9101, 0.1386, 0.9125]])\n",
      "torch.Size([2, 8])\n"
     ]
    }
   ],
   "source": [
    "# reshape\n",
    "x = torch.rand(4,4)\n",
    "print(x)\n",
    "y = x.view(16)\n",
    "y = x.view(-1, 8)\n",
    "print(y.size())"
   ]
  },
  {
   "cell_type": "code",
   "execution_count": 12,
   "id": "ec181466-36ed-4e20-a69c-7220287bb171",
   "metadata": {},
   "outputs": [
    {
     "name": "stdout",
     "output_type": "stream",
     "text": [
      "tensor([1., 1., 1., 1., 1.])\n",
      "[1. 1. 1. 1. 1.]\n",
      "tensor([2., 2., 2., 2., 2.])\n",
      "[2. 2. 2. 2. 2.]\n"
     ]
    },
    {
     "ename": "NameError",
     "evalue": "name 'n' is not defined",
     "output_type": "error",
     "traceback": [
      "\u001b[1;31m---------------------------------------------------------------------------\u001b[0m",
      "\u001b[1;31mNameError\u001b[0m                                 Traceback (most recent call last)",
      "Cell \u001b[1;32mIn[12], line 10\u001b[0m\n\u001b[0;32m      8\u001b[0m \u001b[38;5;28mprint\u001b[39m(a)\n\u001b[0;32m      9\u001b[0m \u001b[38;5;28mprint\u001b[39m(b)\n\u001b[1;32m---> 10\u001b[0m a \u001b[38;5;241m=\u001b[39m n\n",
      "\u001b[1;31mNameError\u001b[0m: name 'n' is not defined"
     ]
    }
   ],
   "source": [
    "# numpy to torch\n",
    "import numpy as np\n",
    "a = torch.ones(5)\n",
    "print(a)\n",
    "b = a.numpy()\n",
    "print(b)\n",
    "a.add_(1)\n",
    "print(a)\n",
    "print(b)\n",
    "a = n"
   ]
  },
  {
   "cell_type": "code",
   "execution_count": 13,
   "id": "3731c653-bb8b-4bd1-86af-2c4110edb8cc",
   "metadata": {},
   "outputs": [
    {
     "name": "stdout",
     "output_type": "stream",
     "text": [
      "[1. 1. 1. 1. 1.]\n",
      "tensor([1., 1., 1., 1., 1.], dtype=torch.float64)\n",
      "[2. 2. 2. 2. 2.]\n",
      "tensor([2., 2., 2., 2., 2.], dtype=torch.float64)\n"
     ]
    }
   ],
   "source": [
    "# numpy to torch \n",
    "a = np.ones(5)\n",
    "print(a)\n",
    "b = torch.from_numpy(a)\n",
    "print(b)\n",
    "\n",
    "a += 1\n",
    "print(a)\n",
    "print(b)"
   ]
  },
  {
   "cell_type": "code",
   "execution_count": 16,
   "id": "3e3b3f84-b6c1-48b1-8ddc-507c65ff0657",
   "metadata": {},
   "outputs": [
    {
     "name": "stdout",
     "output_type": "stream",
     "text": [
      "tensor([2., 2., 2., 2., 2.])\n"
     ]
    }
   ],
   "source": [
    "if torch.cuda.is_available():\n",
    "    device = torch.device('cuda')\n",
    "    x = torch.ones(5, device=device)\n",
    "    y = torch.ones(5)\n",
    "    y = y.to(device)\n",
    "    z = x + y\n",
    "    z = z.to('cpu')\n",
    "print(z)"
   ]
  },
  {
   "cell_type": "code",
   "execution_count": 18,
   "id": "ba4db7be-1413-4d30-81c8-248a8bd4e6b3",
   "metadata": {},
   "outputs": [
    {
     "name": "stdout",
     "output_type": "stream",
     "text": [
      "tensor([1., 1., 1., 1., 1.], requires_grad=True)\n"
     ]
    }
   ],
   "source": [
    "x = torch.ones(5, requires_grad=True)\n",
    "print(x)"
   ]
  },
  {
   "cell_type": "markdown",
   "id": "72fc352b-6d70-4b9f-8187-df21a8ae5428",
   "metadata": {},
   "source": [
    "### GRADIENT CALCULATION WITH AUTOGRAD"
   ]
  },
  {
   "cell_type": "code",
   "execution_count": 1,
   "id": "7b9d7ca5-2098-46e8-a74d-993dd43ff7fb",
   "metadata": {},
   "outputs": [],
   "source": [
    "import torch "
   ]
  },
  {
   "cell_type": "code",
   "execution_count": 2,
   "id": "1cef42b0-ec6c-4bb1-9e79-8acd26601234",
   "metadata": {},
   "outputs": [
    {
     "name": "stdout",
     "output_type": "stream",
     "text": [
      "tensor([ 0.5679,  0.1135, -1.4262], requires_grad=True)\n"
     ]
    }
   ],
   "source": [
    "x = torch.randn(3, requires_grad=True)\n",
    "print(x)"
   ]
  },
  {
   "cell_type": "code",
   "execution_count": 3,
   "id": "09af8e83-27c3-47a3-8d68-43b2ae76318b",
   "metadata": {},
   "outputs": [
    {
     "name": "stdout",
     "output_type": "stream",
     "text": [
      "tensor([2.5679, 2.1135, 0.5738], grad_fn=<AddBackward0>)\n",
      "tensor(7.5935, grad_fn=<MeanBackward0>)\n",
      "tensor([3.4238, 2.8181, 0.7651])\n",
      "tensor([0.1000, 1.0000, 0.0010])\n"
     ]
    }
   ],
   "source": [
    "y =  x + 2\n",
    "print(y)\n",
    "z = y * y * 2\n",
    "z = z.mean()\n",
    "print(z)\n",
    "\n",
    "v = torch.tensor([0.1, 1.0, 0.001], dtype=torch.float32)\n",
    "z.backward() # dz/dx, for this we require requires_grad = True\n",
    "print(x.grad)\n",
    "print(v)"
   ]
  },
  {
   "cell_type": "code",
   "execution_count": 4,
   "id": "8fe9a000-e18c-4907-9220-9fd2047cde80",
   "metadata": {},
   "outputs": [
    {
     "name": "stdout",
     "output_type": "stream",
     "text": [
      "tensor([ 0.5679,  0.1135, -1.4262])\n",
      "tensor([ 0.5679,  0.1135, -1.4262])\n",
      "tensor([2.5679, 2.1135, 0.5738])\n"
     ]
    }
   ],
   "source": [
    "# prevent pytorch from history of tracking the route \n",
    "x.requires_grad_(False)\n",
    "print(x)\n",
    "y = x.detach()\n",
    "print(y)\n",
    "with torch.no_grad():\n",
    "    y = x + 2\n",
    "    print(y)"
   ]
  },
  {
   "cell_type": "code",
   "execution_count": 10,
   "id": "58124123-4415-4218-b729-a22b06470383",
   "metadata": {},
   "outputs": [
    {
     "name": "stdout",
     "output_type": "stream",
     "text": [
      "tensor([3., 3., 3., 3.])\n",
      "tensor([3., 3., 3., 3.])\n",
      "tensor([3., 3., 3., 3.])\n",
      "tensor([3., 3., 3., 3.])\n",
      "tensor([3., 3., 3., 3.])\n",
      "tensor([3., 3., 3., 3.])\n",
      "tensor([3., 3., 3., 3.])\n",
      "tensor([3., 3., 3., 3.])\n",
      "tensor([3., 3., 3., 3.])\n",
      "tensor([3., 3., 3., 3.])\n"
     ]
    }
   ],
   "source": [
    "wts = torch.ones(4, requires_grad=True)\n",
    "for epoch in range(10): # no of iteration \n",
    "    model_otp = (wts * 3).sum() \n",
    "    model_otp.backward()\n",
    "    print(wts.grad)\n",
    "    wts.grad.zero_() # in order to make the wts 0 after every iteration"
   ]
  },
  {
   "cell_type": "code",
   "execution_count": 15,
   "id": "55d43284-7607-4dd6-bf5e-fb58bbda0665",
   "metadata": {},
   "outputs": [],
   "source": [
    "import torch\n",
    "ets = torch.ones(4, requires_grad=True)\n",
    "optimizer = torch.optim.SGD([ets], lr = 0.001)\n",
    "optimizer.step()\n",
    "optimizer.zero_grad()"
   ]
  },
  {
   "cell_type": "markdown",
   "id": "bb65aecf-4e3a-4816-8467-37468df51cfa",
   "metadata": {},
   "source": [
    "### BACKPROPAGATION TECHNIQUES"
   ]
  },
  {
   "cell_type": "code",
   "execution_count": 1,
   "id": "f27aaada-479d-45e8-8610-4c31eb5bc596",
   "metadata": {},
   "outputs": [],
   "source": [
    "import torch"
   ]
  },
  {
   "cell_type": "raw",
   "id": "9ec0a81a-d8b8-4263-a09d-e4ded4ae67cd",
   "metadata": {},
   "source": [
    "x and y are multipled and computed, further bk prop is done inidvidually lets say dx.y/dy = x and vice-versa at local gradients "
   ]
  },
  {
   "cell_type": "code",
   "execution_count": 3,
   "id": "b8d07cb5-583c-4707-99ec-a606a66eb85f",
   "metadata": {},
   "outputs": [
    {
     "name": "stdout",
     "output_type": "stream",
     "text": [
      "tensor(1., grad_fn=<PowBackward0>)\n",
      "tensor(-2.)\n"
     ]
    }
   ],
   "source": [
    "x = torch.tensor(1.0)\n",
    "y = torch.tensor(2.0)\n",
    "\n",
    "w = torch.tensor(1.0, requires_grad = True)\n",
    "#forward\n",
    "y_hat = w * x\n",
    "loss = (y_hat - y) ** 2\n",
    "print(loss)\n",
    "\n",
    "#bckward\n",
    "\n",
    "loss.backward()\n",
    "print(w.grad)"
   ]
  },
  {
   "cell_type": "markdown",
   "id": "1c4a21e1-d4f0-4e7c-bc11-ac73b485b463",
   "metadata": {},
   "source": [
    "### GRADIENT DESCENT WITH AUGTOGRAD AND BKPROPAGATION"
   ]
  },
  {
   "cell_type": "code",
   "execution_count": 7,
   "id": "ca528bb0-d9f5-43dc-903b-4f84003d28a5",
   "metadata": {},
   "outputs": [],
   "source": [
    "import torch \n",
    "import numpy as np\n",
    "from numpy import random"
   ]
  },
  {
   "cell_type": "code",
   "execution_count": 12,
   "id": "a01dd179-0548-4e53-90ce-231b843a159d",
   "metadata": {},
   "outputs": [],
   "source": [
    "x = np.array([1,2,3,4,5], dtype = np.float32)\n",
    "y = np.array([6,7,8,9,10], dtype = np.float32)\n",
    "w = 0.0"
   ]
  },
  {
   "cell_type": "code",
   "execution_count": 17,
   "id": "5ac72553-6134-4c6c-a3a5-19e6cc568033",
   "metadata": {},
   "outputs": [
    {
     "name": "stdout",
     "output_type": "stream",
     "text": [
      "prediction before training: f(5) = 13.000\n",
      "epoch 1: w = 2.340, loss = 5.15999985\n",
      "epoch 2: w = 2.366, loss = 4.55160046\n",
      "epoch 3: w = 2.363, loss = 4.54551601\n",
      "epoch 4: w = 2.364, loss = 4.54545498\n",
      "epoch 5: w = 2.364, loss = 4.54545450\n",
      "epoch 6: w = 2.364, loss = 4.54545450\n",
      "epoch 7: w = 2.364, loss = 4.54545450\n",
      "epoch 8: w = 2.364, loss = 4.54545450\n",
      "epoch 9: w = 2.364, loss = 4.54545450\n",
      "epoch 10: w = 2.364, loss = 4.54545450\n",
      "prediction after training: f(5) = 11.818\n"
     ]
    }
   ],
   "source": [
    "# model prediction\n",
    "def forward(x):\n",
    "    return w * x\n",
    "#loss = mSE\n",
    "def loss(y, y_pred):\n",
    "    return ((y_pred-y)**2).mean()\n",
    "\n",
    "#gradient \n",
    "#MSE = 1/N w*x(w*x -y) ** 2\n",
    "#dj/dw = 1/N 2x (w*x -y)\n",
    "def gradient(x,y, y_pred):\n",
    "    return np.dot(2*x, y_pred-y).mean()\n",
    "print(f'prediction before training: f(5) = {forward(5):.3f}')\n",
    "\n",
    "#Training\n",
    "\n",
    "learning_rate = 0.01\n",
    "n_iters = 10\n",
    "\n",
    "for epoch in range(n_iters):\n",
    "    # pred = forward pass\n",
    "    y_pred = forward(x)\n",
    "    #loss\n",
    "    l = loss(y, y_pred)\n",
    "    #gradients\n",
    "    dw = gradient(x,y,y_pred)\n",
    "    #update the weigths \n",
    "    w -= learning_rate * dw\n",
    "    if epoch % 1 == 0:\n",
    "        print(f'epoch {epoch+1}: w = {w:.3f}, loss = {l:.8f}')\n",
    "print(f'prediction after training: f(5) = {forward(5):.3f}')\n",
    "  "
   ]
  },
  {
   "cell_type": "code",
   "execution_count": 25,
   "id": "2d581eff-f705-464f-a4d9-c80173f2c660",
   "metadata": {},
   "outputs": [],
   "source": [
    "import torch"
   ]
  },
  {
   "cell_type": "code",
   "execution_count": 27,
   "id": "38fbb9d3-7472-4029-afbb-01823d63ee63",
   "metadata": {},
   "outputs": [],
   "source": [
    "x = torch.tensor([1,2,3,4,5], dtype = torch.float32)\n",
    "y = torch.tensor([2,3,4,5,6], dtype = torch.float32)\n",
    "w = torch.tensor(0.0, dtype = torch.float32, requires_grad=True)"
   ]
  },
  {
   "cell_type": "code",
   "execution_count": 31,
   "id": "01d73466-e51b-4551-bc14-49079e3c9804",
   "metadata": {},
   "outputs": [
    {
     "name": "stdout",
     "output_type": "stream",
     "text": [
      "prediction before training: f(5) = 6.364\n",
      "epoch 1: w = 1.273, loss = 0.18181820\n",
      "epoch 2: w = 1.273, loss = 0.18181820\n",
      "epoch 3: w = 1.273, loss = 0.18181820\n",
      "epoch 4: w = 1.273, loss = 0.18181820\n",
      "epoch 5: w = 1.273, loss = 0.18181820\n",
      "epoch 6: w = 1.273, loss = 0.18181820\n",
      "epoch 7: w = 1.273, loss = 0.18181820\n",
      "epoch 8: w = 1.273, loss = 0.18181820\n",
      "epoch 9: w = 1.273, loss = 0.18181820\n",
      "epoch 10: w = 1.273, loss = 0.18181820\n",
      "prediction after training: f(5) = 6.364\n"
     ]
    }
   ],
   "source": [
    "# model prediction\n",
    "def forward(x):\n",
    "    return w * x\n",
    "#loss = mSE\n",
    "def loss(y, y_pred):\n",
    "    return ((y_pred-y)**2).mean()\n",
    "\n",
    "#gradient \n",
    "#MSE = 1/N w*x(w*x -y) ** 2\n",
    "#dj/dw = 1/N 2x (w*x -y)\n",
    "def gradient(x,y, y_pred):\n",
    "    return np.dot(2*x, y_pred-y).mean()\n",
    "print(f'prediction before training: f(5) = {forward(5):.3f}')\n",
    "\n",
    "#Training\n",
    "\n",
    "learning_rate = 0.01\n",
    "n_iters = 10\n",
    "\n",
    "for epoch in range(n_iters):\n",
    "    # pred = forward pass\n",
    "    y_pred = forward(x)\n",
    "    #loss\n",
    "    l = loss(y, y_pred)\n",
    "    #gradients\n",
    "    l.backward()\n",
    "    #update the weigths \n",
    "    with torch.no_grad():\n",
    "        w -= learning_rate * w.grad\n",
    "    #zero gradients\n",
    "    w.grad.zero_()\n",
    "    if epoch % 1 == 0:\n",
    "        print(f'epoch {epoch+1}: w = {w:.3f}, loss = {l:.8f}')\n",
    "print(f'prediction after training: f(5) = {forward(5):.3f}')\n",
    "  "
   ]
  },
  {
   "cell_type": "raw",
   "id": "1d902a67-05d5-4306-b7ce-7a19b73a7280",
   "metadata": {},
   "source": [
    "design a model (ip, op, forward pass)\n",
    "construct loss\n",
    "traing loop \n",
    "forward pass - compute pred\n",
    "bck pass - gradients\n",
    "update the wts "
   ]
  },
  {
   "cell_type": "code",
   "execution_count": 32,
   "id": "f154c655-f74d-44bd-b497-147c358626a8",
   "metadata": {},
   "outputs": [],
   "source": [
    "import torch\n",
    "import torch.nn as nn"
   ]
  },
  {
   "cell_type": "code",
   "execution_count": 33,
   "id": "069dbc6f-a031-416e-8c5b-85d4a49eee6c",
   "metadata": {},
   "outputs": [
    {
     "name": "stdout",
     "output_type": "stream",
     "text": [
      "prediction before training: f(5) = 6.364\n",
      "epoch 1: w = 1.273, loss = 0.18181820\n",
      "epoch 2: w = 1.273, loss = 0.18181820\n",
      "epoch 3: w = 1.273, loss = 0.18181820\n",
      "epoch 4: w = 1.273, loss = 0.18181820\n",
      "epoch 5: w = 1.273, loss = 0.18181820\n",
      "epoch 6: w = 1.273, loss = 0.18181820\n",
      "epoch 7: w = 1.273, loss = 0.18181820\n",
      "epoch 8: w = 1.273, loss = 0.18181820\n",
      "epoch 9: w = 1.273, loss = 0.18181820\n",
      "epoch 10: w = 1.273, loss = 0.18181820\n",
      "prediction after training: f(5) = 6.364\n"
     ]
    }
   ],
   "source": [
    "# model prediction\n",
    "def forward(x):\n",
    "    return w * x\n",
    "\n",
    "#gradient \n",
    "#MSE = 1/N w*x(w*x -y) ** 2\n",
    "#dj/dw = 1/N 2x (w*x -y)\n",
    "def gradient(x,y, y_pred):\n",
    "    return np.dot(2*x, y_pred-y).mean()\n",
    "print(f'prediction before training: f(5) = {forward(5):.3f}')\n",
    "\n",
    "#Training\n",
    "\n",
    "learning_rate = 0.01\n",
    "n_iters = 10\n",
    "\n",
    "loss = nn.MSELoss()\n",
    "optimizer = torch.optim.SGD([w], lr = learning_rate)\n",
    "\n",
    "for epoch in range(n_iters):\n",
    "    # pred = forward pass\n",
    "    y_pred = forward(x)\n",
    "    #loss\n",
    "    l = loss(y, y_pred)\n",
    "    #gradients\n",
    "    l.backward()\n",
    "    #update wts\n",
    "    optimizer.step()\n",
    "    #zero gradients\n",
    "    optimizer.zero_grad()\n",
    "    if epoch % 1 == 0:\n",
    "        print(f'epoch {epoch+1}: w = {w:.3f}, loss = {l:.8f}')\n",
    "print(f'prediction after training: f(5) = {forward(5):.3f}')\n",
    "  "
   ]
  },
  {
   "cell_type": "raw",
   "id": "62a60707-7fe5-4881-a182-0f63bc7cc483",
   "metadata": {},
   "source": [
    "automating pytorch model"
   ]
  },
  {
   "cell_type": "code",
   "execution_count": 37,
   "id": "57e80405-6e22-4e0a-8f6c-c5e28bd09f4f",
   "metadata": {},
   "outputs": [
    {
     "name": "stdout",
     "output_type": "stream",
     "text": [
      "5 1\n"
     ]
    }
   ],
   "source": [
    "x = torch.tensor([[1],[2],[3],[4],[5]], dtype = torch.float32)\n",
    "y = torch.tensor([[2],[3],[4],[5],[6]], dtype = torch.float32)\n",
    "n_samples, n_features = x.shape\n",
    "print(n_samples, n_features)\n",
    "x_test = torch.tensor([5], dtype=torch.float32)"
   ]
  },
  {
   "cell_type": "code",
   "execution_count": 40,
   "id": "6b724737-3921-4b80-8f52-e06c2d27ad4b",
   "metadata": {},
   "outputs": [
    {
     "name": "stdout",
     "output_type": "stream",
     "text": [
      "prediction before training: f(5) = 1.610\n",
      "epoch 1: w = 0.507, loss = 9.91241264\n",
      "epoch 2: w = 0.665, loss = 5.80732441\n",
      "epoch 3: w = 0.785, loss = 3.41487384\n",
      "epoch 4: w = 0.877, loss = 2.02046561\n",
      "epoch 5: w = 0.947, loss = 1.20766795\n",
      "epoch 6: w = 1.001, loss = 0.73380536\n",
      "epoch 7: w = 1.041, loss = 0.45745888\n",
      "epoch 8: w = 1.072, loss = 0.29621658\n",
      "epoch 9: w = 1.095, loss = 0.20205255\n",
      "epoch 10: w = 1.113, loss = 0.14697962\n",
      "prediction after training: f(5) = 5.927\n"
     ]
    }
   ],
   "source": [
    "in_size = n_features\n",
    "op_size = n_features\n",
    "model = nn.Linear(in_size, op_size)\n",
    "\n",
    "'''class LinearRegression(nn.Module):\n",
    "    def __init__(self, input_dim, output_dim):\n",
    "        super(LinearRegression, self).__init__()\n",
    "        #define the layers\n",
    "        self.lin = nn.Linear(input_dim, output_dim)\n",
    "    def forward(self, x):\n",
    "        return self.lin(x)\n",
    "\n",
    "model = LinearRegression(in_size, op_size)'''\n",
    "print(f'prediction before training: f(5) = {model(x_test).item():.3f}')\n",
    "\n",
    "#Training\n",
    "\n",
    "learning_rate = 0.01\n",
    "n_iters = 10\n",
    "\n",
    "loss = nn.MSELoss()\n",
    "optimizer = torch.optim.SGD(model.parameters(), lr = learning_rate)\n",
    "\n",
    "for epoch in range(n_iters):\n",
    "    # pred = forward pass\n",
    "    y_pred = model(x)\n",
    "    #loss\n",
    "    l = loss(y, y_pred)\n",
    "    #gradients\n",
    "    l.backward()\n",
    "    #update wts\n",
    "    optimizer.step()\n",
    "    #zero gradients\n",
    "    optimizer.zero_grad()\n",
    "    if epoch % 1 == 0:\n",
    "        [w, b] = model.parameters()\n",
    "        print(f'epoch {epoch+1}: w = {w[0][0].item():.3f}, loss = {l:.8f}')\n",
    "print(f'prediction after training: f(5) = {model(x_test).item():.3f}')\n",
    "  "
   ]
  },
  {
   "cell_type": "markdown",
   "id": "7bae443e-8c43-4cd9-8bf4-0c9e259f03ea",
   "metadata": {},
   "source": [
    "# LINEAR REGRESSION "
   ]
  },
  {
   "cell_type": "code",
   "execution_count": 2,
   "id": "7aa0821b-f8af-4bf1-88cc-228555cc6f5a",
   "metadata": {},
   "outputs": [],
   "source": [
    "import torch \n",
    "import torch.nn as nn\n",
    "import numpy as np\n",
    "from matplotlib import pyplot as plt\n",
    "from sklearn import datasets"
   ]
  },
  {
   "cell_type": "code",
   "execution_count": 3,
   "id": "8fdf96f9-9f89-43ae-be5b-d2b98dcddb4d",
   "metadata": {},
   "outputs": [],
   "source": [
    "# prepare data\n",
    "x_numpy, y_numpy = datasets.make_regression(n_samples=100, n_features=1, noise=20, random_state=1)"
   ]
  },
  {
   "cell_type": "code",
   "execution_count": 7,
   "id": "abdfeb8c-f981-46a2-a280-ba8dcee1a8ca",
   "metadata": {},
   "outputs": [
    {
     "name": "stdout",
     "output_type": "stream",
     "text": [
      "epochs: 10, loss = 4403.1123\n",
      "epochs: 20, loss = 3286.8335\n",
      "epochs: 30, loss = 2478.4695\n",
      "epochs: 40, loss = 1892.4967\n",
      "epochs: 50, loss = 1467.3370\n",
      "epochs: 60, loss = 1158.5925\n",
      "epochs: 70, loss = 934.2095\n",
      "epochs: 80, loss = 771.0184\n",
      "epochs: 90, loss = 652.2516\n",
      "epochs: 100, loss = 565.7629\n"
     ]
    },
    {
     "data": {
      "image/png": "[encoded data removed]",
      "text/plain": [
       "<Figure size 640x480 with 1 Axes>"
      ]
     },
     "metadata": {},
     "output_type": "display_data"
    }
   ],
   "source": [
    "x = torch.from_numpy(x_numpy.astype(np.float32))\n",
    "y = torch.from_numpy(y_numpy.astype(np.float32))\n",
    "y = y.view(y.shape[0], 1)\n",
    "n_samples, n_features = x.shape\n",
    "\n",
    "# model\n",
    "ip_size = n_features\n",
    "op_size = 1\n",
    "model = nn.Linear(ip_size, op_size)\n",
    "\n",
    "#loss and optimizer\n",
    "learning_rate = 0.01\n",
    "creation = nn.MSELoss()\n",
    "optimizer = torch.optim.SGD(model.parameters(), lr=learning_rate)\n",
    "\n",
    "#training loop\n",
    "\n",
    "num_epochs = 100\n",
    "for epoch in range(num_epochs):\n",
    "    #forwrd pass\n",
    "    y_pred = model(x)\n",
    "    loss = creation(y_pred, y)\n",
    "\n",
    "    #backward pass\n",
    "    loss.backward()\n",
    "\n",
    "    #update weights\n",
    "    optimizer.step()\n",
    "    optimizer.zero_grad()\n",
    "    if (epoch+1) % 10 == 0:\n",
    "        print(f'epochs: {epoch+1}, loss = {loss.item():.4f}')\n",
    "\n",
    "#plot \n",
    "predicted = model(x).detach().numpy()\n",
    "plt.plot(x_numpy, y_numpy, 'ro')\n",
    "plt.plot(x_numpy, y_numpy, 'b')\n",
    "plt.show()\n",
    "    "
   ]
  },
  {
   "cell_type": "code",
   "execution_count": null,
   "id": "c71ca127-f49a-4c9e-b01f-c0fe086293aa",
   "metadata": {},
   "outputs": [],
   "source": []
  }
 ],
 "metadata": {
  "kernelspec": {
   "display_name": "pytorch",
   "language": "python",
   "name": "pytorch"
  },
  "language_info": {
   "codemirror_mode": {
    "name": "ipython",
    "version": 3
   },
   "file_extension": ".py",
   "mimetype": "text/x-python",
   "name": "python",
   "nbconvert_exporter": "python",
   "pygments_lexer": "ipython3",
   "version": "3.12.4"
  }
 },
 "nbformat": 4,
 "nbformat_minor": 5
}
